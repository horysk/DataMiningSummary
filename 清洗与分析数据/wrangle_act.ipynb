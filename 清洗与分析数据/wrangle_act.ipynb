{
 "cells": [
  {
   "cell_type": "markdown",
   "metadata": {},
   "source": [
    "# 清洗与分析数据"
   ]
  },
  {
   "cell_type": "code",
   "execution_count": 1,
   "metadata": {},
   "outputs": [],
   "source": [
    "import pandas as pd\n",
    "import numpy as np\n",
    "import json\n",
    "import requests\n",
    "import tweepy\n",
    "import matplotlib.pyplot as plt\n",
    "import re"
   ]
  },
  {
   "cell_type": "markdown",
   "metadata": {},
   "source": [
    "### 获取图像的预测数据\n",
    "对出现在每个推特中狗的品种（或其他物体、动物等）进行预测的结果"
   ]
  },
  {
   "cell_type": "code",
   "execution_count": 2,
   "metadata": {},
   "outputs": [],
   "source": [
    "image_url = 'https://raw.githubusercontent.com/udacity/new-dand-advanced-china/master/%E6%95%B0%E6%8D%AE%E6%B8%85%E6%B4%97/WeRateDogs%E9%A1%B9%E7%9B%AE/image-predictions.tsv'\n",
    "response = requests.get(image_url)\n",
    "with open('image-predictions.tsv','w') as image_file:\n",
    "    image_file.write(response.text)"
   ]
  },
  {
   "cell_type": "code",
   "execution_count": 3,
   "metadata": {},
   "outputs": [],
   "source": [
    "# 解析 tweet-json.txt\n",
    "tweet_json_info = []\n",
    "with open('tweet-json.txt', 'r', encoding='utf-8') as file:\n",
    "    lines = file.readlines()\n",
    "    for line in lines:\n",
    "        line = json.loads(line)\n",
    "        try:\n",
    "            expanded_url = line[\"entities\"][\"media\"][0][\"expanded_url\"]\n",
    "        except Exception as err:\n",
    "            expanded_url = np.NaN\n",
    "        try:\n",
    "            media_url_https = line[\"entities\"][\"media\"][0][\"media_url_https\"]\n",
    "        except Exception as err:\n",
    "            media_url_https = np.NaN\n",
    "        tweet_json_info.append({\"tweet_id\": line[\"id\"], \n",
    "                                \"retweet_count\": line[\"retweet_count\"], \n",
    "                                \"favorite_count\": line[\"favorite_count\"],\n",
    "                                \"expanded_urls\": expanded_url,\n",
    "                                \"jpg_url\": media_url_https\n",
    "                               })\n",
    "\n",
    "df_tweet_retweet_favorite = pd.DataFrame(data=tweet_json_info, columns=[\"tweet_id\", \n",
    "                                                                        \"retweet_count\", \n",
    "                                                                        \"favorite_count\",\n",
    "                                                                        \"expanded_urls\",\n",
    "                                                                        \"jpg_url\"\n",
    "                                                                       ])"
   ]
  },
  {
   "cell_type": "code",
   "execution_count": 4,
   "metadata": {},
   "outputs": [],
   "source": [
    "# 存储 tweet 转发、点赞信息\n",
    "df_tweet_retweet_favorite.to_csv('tweet-retweet-favorite.csv', index=False)"
   ]
  },
  {
   "cell_type": "markdown",
   "metadata": {},
   "source": [
    "### 文件读取"
   ]
  },
  {
   "cell_type": "code",
   "execution_count": 5,
   "metadata": {},
   "outputs": [],
   "source": [
    "df_twitter_archive = pd.read_csv('twitter-archive-enhanced.csv')\n",
    "df_tweet_retweet_favorite = pd.read_csv('tweet-retweet-favorite.csv')\n",
    "df_image_predictions = pd.read_csv('image-predictions.tsv', sep='\\t')"
   ]
  },
  {
   "cell_type": "code",
   "execution_count": 6,
   "metadata": {},
   "outputs": [
    {
     "data": {
      "text/html": [
       "<div>\n",
       "<style scoped>\n",
       "    .dataframe tbody tr th:only-of-type {\n",
       "        vertical-align: middle;\n",
       "    }\n",
       "\n",
       "    .dataframe tbody tr th {\n",
       "        vertical-align: top;\n",
       "    }\n",
       "\n",
       "    .dataframe thead th {\n",
       "        text-align: right;\n",
       "    }\n",
       "</style>\n",
       "<table border=\"1\" class=\"dataframe\">\n",
       "  <thead>\n",
       "    <tr style=\"text-align: right;\">\n",
       "      <th></th>\n",
       "      <th>tweet_id</th>\n",
       "      <th>in_reply_to_status_id</th>\n",
       "      <th>in_reply_to_user_id</th>\n",
       "      <th>timestamp</th>\n",
       "      <th>source</th>\n",
       "      <th>text</th>\n",
       "      <th>retweeted_status_id</th>\n",
       "      <th>retweeted_status_user_id</th>\n",
       "      <th>retweeted_status_timestamp</th>\n",
       "      <th>expanded_urls</th>\n",
       "      <th>rating_numerator</th>\n",
       "      <th>rating_denominator</th>\n",
       "      <th>name</th>\n",
       "      <th>doggo</th>\n",
       "      <th>floofer</th>\n",
       "      <th>pupper</th>\n",
       "      <th>puppo</th>\n",
       "    </tr>\n",
       "  </thead>\n",
       "  <tbody>\n",
       "    <tr>\n",
       "      <th>0</th>\n",
       "      <td>892420643555336193</td>\n",
       "      <td>NaN</td>\n",
       "      <td>NaN</td>\n",
       "      <td>2017-08-01 16:23:56 +0000</td>\n",
       "      <td>&lt;a href=\"http://twitter.com/download/iphone\" r...</td>\n",
       "      <td>This is Phineas. He's a mystical boy. Only eve...</td>\n",
       "      <td>NaN</td>\n",
       "      <td>NaN</td>\n",
       "      <td>NaN</td>\n",
       "      <td>https://twitter.com/dog_rates/status/892420643...</td>\n",
       "      <td>13</td>\n",
       "      <td>10</td>\n",
       "      <td>Phineas</td>\n",
       "      <td>None</td>\n",
       "      <td>None</td>\n",
       "      <td>None</td>\n",
       "      <td>None</td>\n",
       "    </tr>\n",
       "    <tr>\n",
       "      <th>1</th>\n",
       "      <td>892177421306343426</td>\n",
       "      <td>NaN</td>\n",
       "      <td>NaN</td>\n",
       "      <td>2017-08-01 00:17:27 +0000</td>\n",
       "      <td>&lt;a href=\"http://twitter.com/download/iphone\" r...</td>\n",
       "      <td>This is Tilly. She's just checking pup on you....</td>\n",
       "      <td>NaN</td>\n",
       "      <td>NaN</td>\n",
       "      <td>NaN</td>\n",
       "      <td>https://twitter.com/dog_rates/status/892177421...</td>\n",
       "      <td>13</td>\n",
       "      <td>10</td>\n",
       "      <td>Tilly</td>\n",
       "      <td>None</td>\n",
       "      <td>None</td>\n",
       "      <td>None</td>\n",
       "      <td>None</td>\n",
       "    </tr>\n",
       "    <tr>\n",
       "      <th>2</th>\n",
       "      <td>891815181378084864</td>\n",
       "      <td>NaN</td>\n",
       "      <td>NaN</td>\n",
       "      <td>2017-07-31 00:18:03 +0000</td>\n",
       "      <td>&lt;a href=\"http://twitter.com/download/iphone\" r...</td>\n",
       "      <td>This is Archie. He is a rare Norwegian Pouncin...</td>\n",
       "      <td>NaN</td>\n",
       "      <td>NaN</td>\n",
       "      <td>NaN</td>\n",
       "      <td>https://twitter.com/dog_rates/status/891815181...</td>\n",
       "      <td>12</td>\n",
       "      <td>10</td>\n",
       "      <td>Archie</td>\n",
       "      <td>None</td>\n",
       "      <td>None</td>\n",
       "      <td>None</td>\n",
       "      <td>None</td>\n",
       "    </tr>\n",
       "  </tbody>\n",
       "</table>\n",
       "</div>"
      ],
      "text/plain": [
       "             tweet_id  in_reply_to_status_id  in_reply_to_user_id  \\\n",
       "0  892420643555336193                    NaN                  NaN   \n",
       "1  892177421306343426                    NaN                  NaN   \n",
       "2  891815181378084864                    NaN                  NaN   \n",
       "\n",
       "                   timestamp  \\\n",
       "0  2017-08-01 16:23:56 +0000   \n",
       "1  2017-08-01 00:17:27 +0000   \n",
       "2  2017-07-31 00:18:03 +0000   \n",
       "\n",
       "                                              source  \\\n",
       "0  <a href=\"http://twitter.com/download/iphone\" r...   \n",
       "1  <a href=\"http://twitter.com/download/iphone\" r...   \n",
       "2  <a href=\"http://twitter.com/download/iphone\" r...   \n",
       "\n",
       "                                                text  retweeted_status_id  \\\n",
       "0  This is Phineas. He's a mystical boy. Only eve...                  NaN   \n",
       "1  This is Tilly. She's just checking pup on you....                  NaN   \n",
       "2  This is Archie. He is a rare Norwegian Pouncin...                  NaN   \n",
       "\n",
       "   retweeted_status_user_id retweeted_status_timestamp  \\\n",
       "0                       NaN                        NaN   \n",
       "1                       NaN                        NaN   \n",
       "2                       NaN                        NaN   \n",
       "\n",
       "                                       expanded_urls  rating_numerator  \\\n",
       "0  https://twitter.com/dog_rates/status/892420643...                13   \n",
       "1  https://twitter.com/dog_rates/status/892177421...                13   \n",
       "2  https://twitter.com/dog_rates/status/891815181...                12   \n",
       "\n",
       "   rating_denominator     name doggo floofer pupper puppo  \n",
       "0                  10  Phineas  None    None   None  None  \n",
       "1                  10    Tilly  None    None   None  None  \n",
       "2                  10   Archie  None    None   None  None  "
      ]
     },
     "execution_count": 6,
     "metadata": {},
     "output_type": "execute_result"
    }
   ],
   "source": [
    "df_twitter_archive.head(3)"
   ]
  },
  {
   "cell_type": "code",
   "execution_count": 7,
   "metadata": {},
   "outputs": [
    {
     "data": {
      "text/html": [
       "<div>\n",
       "<style scoped>\n",
       "    .dataframe tbody tr th:only-of-type {\n",
       "        vertical-align: middle;\n",
       "    }\n",
       "\n",
       "    .dataframe tbody tr th {\n",
       "        vertical-align: top;\n",
       "    }\n",
       "\n",
       "    .dataframe thead th {\n",
       "        text-align: right;\n",
       "    }\n",
       "</style>\n",
       "<table border=\"1\" class=\"dataframe\">\n",
       "  <thead>\n",
       "    <tr style=\"text-align: right;\">\n",
       "      <th></th>\n",
       "      <th>tweet_id</th>\n",
       "      <th>retweet_count</th>\n",
       "      <th>favorite_count</th>\n",
       "      <th>expanded_urls</th>\n",
       "      <th>jpg_url</th>\n",
       "    </tr>\n",
       "  </thead>\n",
       "  <tbody>\n",
       "    <tr>\n",
       "      <th>0</th>\n",
       "      <td>892420643555336193</td>\n",
       "      <td>8842</td>\n",
       "      <td>39492</td>\n",
       "      <td>https://twitter.com/dog_rates/status/892420643...</td>\n",
       "      <td>https://pbs.twimg.com/media/DGKD1-bXoAAIAUK.jpg</td>\n",
       "    </tr>\n",
       "    <tr>\n",
       "      <th>1</th>\n",
       "      <td>892177421306343426</td>\n",
       "      <td>6480</td>\n",
       "      <td>33786</td>\n",
       "      <td>https://twitter.com/dog_rates/status/892177421...</td>\n",
       "      <td>https://pbs.twimg.com/media/DGGmoV4XsAAUL6n.jpg</td>\n",
       "    </tr>\n",
       "    <tr>\n",
       "      <th>2</th>\n",
       "      <td>891815181378084864</td>\n",
       "      <td>4301</td>\n",
       "      <td>25445</td>\n",
       "      <td>https://twitter.com/dog_rates/status/891815181...</td>\n",
       "      <td>https://pbs.twimg.com/media/DGBdLU1WsAANxJ9.jpg</td>\n",
       "    </tr>\n",
       "  </tbody>\n",
       "</table>\n",
       "</div>"
      ],
      "text/plain": [
       "             tweet_id  retweet_count  favorite_count  \\\n",
       "0  892420643555336193           8842           39492   \n",
       "1  892177421306343426           6480           33786   \n",
       "2  891815181378084864           4301           25445   \n",
       "\n",
       "                                       expanded_urls  \\\n",
       "0  https://twitter.com/dog_rates/status/892420643...   \n",
       "1  https://twitter.com/dog_rates/status/892177421...   \n",
       "2  https://twitter.com/dog_rates/status/891815181...   \n",
       "\n",
       "                                           jpg_url  \n",
       "0  https://pbs.twimg.com/media/DGKD1-bXoAAIAUK.jpg  \n",
       "1  https://pbs.twimg.com/media/DGGmoV4XsAAUL6n.jpg  \n",
       "2  https://pbs.twimg.com/media/DGBdLU1WsAANxJ9.jpg  "
      ]
     },
     "execution_count": 7,
     "metadata": {},
     "output_type": "execute_result"
    }
   ],
   "source": [
    "df_tweet_retweet_favorite.head(3)"
   ]
  },
  {
   "cell_type": "code",
   "execution_count": 8,
   "metadata": {},
   "outputs": [
    {
     "data": {
      "text/html": [
       "<div>\n",
       "<style scoped>\n",
       "    .dataframe tbody tr th:only-of-type {\n",
       "        vertical-align: middle;\n",
       "    }\n",
       "\n",
       "    .dataframe tbody tr th {\n",
       "        vertical-align: top;\n",
       "    }\n",
       "\n",
       "    .dataframe thead th {\n",
       "        text-align: right;\n",
       "    }\n",
       "</style>\n",
       "<table border=\"1\" class=\"dataframe\">\n",
       "  <thead>\n",
       "    <tr style=\"text-align: right;\">\n",
       "      <th></th>\n",
       "      <th>tweet_id</th>\n",
       "      <th>jpg_url</th>\n",
       "      <th>img_num</th>\n",
       "      <th>p1</th>\n",
       "      <th>p1_conf</th>\n",
       "      <th>p1_dog</th>\n",
       "      <th>p2</th>\n",
       "      <th>p2_conf</th>\n",
       "      <th>p2_dog</th>\n",
       "      <th>p3</th>\n",
       "      <th>p3_conf</th>\n",
       "      <th>p3_dog</th>\n",
       "    </tr>\n",
       "  </thead>\n",
       "  <tbody>\n",
       "    <tr>\n",
       "      <th>0</th>\n",
       "      <td>666020888022790149</td>\n",
       "      <td>https://pbs.twimg.com/media/CT4udn0WwAA0aMy.jpg</td>\n",
       "      <td>1</td>\n",
       "      <td>Welsh_springer_spaniel</td>\n",
       "      <td>0.465074</td>\n",
       "      <td>True</td>\n",
       "      <td>collie</td>\n",
       "      <td>0.156665</td>\n",
       "      <td>True</td>\n",
       "      <td>Shetland_sheepdog</td>\n",
       "      <td>0.061428</td>\n",
       "      <td>True</td>\n",
       "    </tr>\n",
       "    <tr>\n",
       "      <th>1</th>\n",
       "      <td>666029285002620928</td>\n",
       "      <td>https://pbs.twimg.com/media/CT42GRgUYAA5iDo.jpg</td>\n",
       "      <td>1</td>\n",
       "      <td>redbone</td>\n",
       "      <td>0.506826</td>\n",
       "      <td>True</td>\n",
       "      <td>miniature_pinscher</td>\n",
       "      <td>0.074192</td>\n",
       "      <td>True</td>\n",
       "      <td>Rhodesian_ridgeback</td>\n",
       "      <td>0.072010</td>\n",
       "      <td>True</td>\n",
       "    </tr>\n",
       "    <tr>\n",
       "      <th>2</th>\n",
       "      <td>666033412701032449</td>\n",
       "      <td>https://pbs.twimg.com/media/CT4521TWwAEvMyu.jpg</td>\n",
       "      <td>1</td>\n",
       "      <td>German_shepherd</td>\n",
       "      <td>0.596461</td>\n",
       "      <td>True</td>\n",
       "      <td>malinois</td>\n",
       "      <td>0.138584</td>\n",
       "      <td>True</td>\n",
       "      <td>bloodhound</td>\n",
       "      <td>0.116197</td>\n",
       "      <td>True</td>\n",
       "    </tr>\n",
       "  </tbody>\n",
       "</table>\n",
       "</div>"
      ],
      "text/plain": [
       "             tweet_id                                          jpg_url  \\\n",
       "0  666020888022790149  https://pbs.twimg.com/media/CT4udn0WwAA0aMy.jpg   \n",
       "1  666029285002620928  https://pbs.twimg.com/media/CT42GRgUYAA5iDo.jpg   \n",
       "2  666033412701032449  https://pbs.twimg.com/media/CT4521TWwAEvMyu.jpg   \n",
       "\n",
       "   img_num                      p1   p1_conf  p1_dog                  p2  \\\n",
       "0        1  Welsh_springer_spaniel  0.465074    True              collie   \n",
       "1        1                 redbone  0.506826    True  miniature_pinscher   \n",
       "2        1         German_shepherd  0.596461    True            malinois   \n",
       "\n",
       "    p2_conf  p2_dog                   p3   p3_conf  p3_dog  \n",
       "0  0.156665    True    Shetland_sheepdog  0.061428    True  \n",
       "1  0.074192    True  Rhodesian_ridgeback  0.072010    True  \n",
       "2  0.138584    True           bloodhound  0.116197    True  "
      ]
     },
     "execution_count": 8,
     "metadata": {},
     "output_type": "execute_result"
    }
   ],
   "source": [
    "df_image_predictions.head(3)"
   ]
  },
  {
   "cell_type": "markdown",
   "metadata": {},
   "source": [
    "### `df_twitter_archive`  表\n",
    "\n",
    "- tweet_id: 推文id\n",
    "- in_reply_to_status_id: 可空。 如果表示的Tweet是回复，则此字段将包含原始推文ID的整数表示。例: \"in_reply_to_status_id\":1051222721923756032\n",
    "- in_reply_to_user_id:   可空。 如果表示的Tweet是回复，则此字段将包含原始Tweet的作者ID的整数表示。 这不一定总是Tweet中直接提到的用户。 例：\"in_reply_to_user_id\":6253282\n",
    "- timestamp: 创建时间\n",
    "- source:  用于发布推文的实用程序，作为HTML格式的字符串。 来自Twitter网站的推文具有网络的来源价值。\n",
    "- text: 推文\n",
    "- retweeted_status_id: 用户可以通过转发放大其他用户创作的推文的广播。 转发可以通过retweeted_status属性的存在与典型的推文区分开来。 此属性包含转发的原始推文的表示形式。 \n",
    "- retweeted_status_user_id: 此属性包含转发的原始用户的表示形式。\n",
    "- retweeted_status_timestamp', \n",
    "- expanded_urls:  display_url的扩展版本。 指向媒体显示页面的链接\n",
    "- rating_numerator: 评级分子\n",
    "- rating_denominator: 评级分母\n",
    "- name: dog名字\n",
    "- doggo: 类别\n",
    "- floofer: 类别\n",
    "- pupper: 类别\n",
    "- puppo: 类别"
   ]
  },
  {
   "cell_type": "markdown",
   "metadata": {},
   "source": [
    "### `image-predictions` 表\n",
    "以该表格中的最后一行数据来理解各列数据：\n",
    "\n",
    "- tweet_id 是推特链接的最后一部分，位于 \"status/\" 后面 → https://twitter.com/dog_rates/status/889531135344209921\n",
    "- jpg_url 是预测的图像资源链接\n",
    "- img_num 最可信的预测结果对应的图像编号 → 1 推特中的第一张图片\n",
    "- p1 是算法对推特中图片的一号预测 → 金毛犬\n",
    "- p1_conf 是算法的一号预测的可信度 → 95%\n",
    "- p1_dog 是一号预测该图片是否属于“狗”（有可能是其他物种，比如熊、马等） → True 真\n",
    "- p2 是算法对推特中图片预测的第二种可能性 → 拉布拉多犬\n",
    "- p2_conf 是算法的二号预测的可信度 → 1%\n",
    "- p2_dog 是二号预测该图片是否属于“狗” → True 真\n",
    "- 以此类推..."
   ]
  },
  {
   "cell_type": "markdown",
   "metadata": {},
   "source": [
    "### `tweet-retweet-favorite` 表\n",
    "- tweet_id: 推文id\n",
    "- retweet_count: 转发数\n",
    "- favorite_count: 点赞数"
   ]
  },
  {
   "cell_type": "markdown",
   "metadata": {},
   "source": [
    "# 评估"
   ]
  },
  {
   "cell_type": "markdown",
   "metadata": {},
   "source": [
    "## 数据问题\n",
    "### 质量\n",
    "#### `df_twitter_archive` table\n",
    "- retweeted_status_timestamp 列类型不对 应为datetime类型\n",
    "- timestamp 列类型不对，应为datetime类型\n",
    "- in_reply_to_status_id、in_reply_to_user_id 有回复的推文 (78条)\n",
    "- retweeted_status_id、retweeted_status_user_id 有转发的推文 (181条) \n",
    "- name 有745个None, 55个a 值 (从text截取名字有误)\n",
    "- source 列包含html信息\n",
    "- rating_numerator 列值错误 （索引号: 695 、340、763、1712、1689、45...）\n",
    "- rating_denominator 列有不等于10的值\n",
    "- expanded_urls 有缺失值\n",
    "- doggo、floofer、pupper、puppo 列，有些推文中有明确的stage，对应stage值缺失\n",
    "\n",
    "### 清洁度\n",
    "- `df_twitter_archive` doggo、floofer、pupper、puppo 列应该合成一列\n",
    "- `df_retweet_favorite` 应该是`df_twitter_archive`的一部分\n"
   ]
  },
  {
   "cell_type": "code",
   "execution_count": 9,
   "metadata": {},
   "outputs": [
    {
     "name": "stdout",
     "output_type": "stream",
     "text": [
      "<class 'pandas.core.frame.DataFrame'>\n",
      "RangeIndex: 2356 entries, 0 to 2355\n",
      "Data columns (total 17 columns):\n",
      "tweet_id                      2356 non-null int64\n",
      "in_reply_to_status_id         78 non-null float64\n",
      "in_reply_to_user_id           78 non-null float64\n",
      "timestamp                     2356 non-null object\n",
      "source                        2356 non-null object\n",
      "text                          2356 non-null object\n",
      "retweeted_status_id           181 non-null float64\n",
      "retweeted_status_user_id      181 non-null float64\n",
      "retweeted_status_timestamp    181 non-null object\n",
      "expanded_urls                 2297 non-null object\n",
      "rating_numerator              2356 non-null int64\n",
      "rating_denominator            2356 non-null int64\n",
      "name                          2356 non-null object\n",
      "doggo                         2356 non-null object\n",
      "floofer                       2356 non-null object\n",
      "pupper                        2356 non-null object\n",
      "puppo                         2356 non-null object\n",
      "dtypes: float64(4), int64(3), object(10)\n",
      "memory usage: 313.0+ KB\n"
     ]
    }
   ],
   "source": [
    "# 排查列的类型是否有问题\n",
    "df_twitter_archive.info()"
   ]
  },
  {
   "cell_type": "code",
   "execution_count": 10,
   "metadata": {},
   "outputs": [
    {
     "data": {
      "text/plain": [
       "<a href=\"http://twitter.com/download/iphone\" rel=\"nofollow\">Twitter for iPhone</a>     2221\n",
       "<a href=\"http://vine.co\" rel=\"nofollow\">Vine - Make a Scene</a>                          91\n",
       "<a href=\"http://twitter.com\" rel=\"nofollow\">Twitter Web Client</a>                       33\n",
       "<a href=\"https://about.twitter.com/products/tweetdeck\" rel=\"nofollow\">TweetDeck</a>      11\n",
       "Name: source, dtype: int64"
      ]
     },
     "execution_count": 10,
     "metadata": {},
     "output_type": "execute_result"
    }
   ],
   "source": [
    "# 查看source列信息\n",
    "df_twitter_archive.source.value_counts()"
   ]
  },
  {
   "cell_type": "code",
   "execution_count": 11,
   "metadata": {},
   "outputs": [
    {
     "data": {
      "text/html": [
       "<div>\n",
       "<style scoped>\n",
       "    .dataframe tbody tr th:only-of-type {\n",
       "        vertical-align: middle;\n",
       "    }\n",
       "\n",
       "    .dataframe tbody tr th {\n",
       "        vertical-align: top;\n",
       "    }\n",
       "\n",
       "    .dataframe thead th {\n",
       "        text-align: right;\n",
       "    }\n",
       "</style>\n",
       "<table border=\"1\" class=\"dataframe\">\n",
       "  <thead>\n",
       "    <tr style=\"text-align: right;\">\n",
       "      <th></th>\n",
       "      <th>tweet_id</th>\n",
       "      <th>in_reply_to_status_id</th>\n",
       "      <th>in_reply_to_user_id</th>\n",
       "      <th>timestamp</th>\n",
       "      <th>source</th>\n",
       "      <th>text</th>\n",
       "      <th>retweeted_status_id</th>\n",
       "      <th>retweeted_status_user_id</th>\n",
       "      <th>retweeted_status_timestamp</th>\n",
       "      <th>expanded_urls</th>\n",
       "      <th>rating_numerator</th>\n",
       "      <th>rating_denominator</th>\n",
       "      <th>name</th>\n",
       "      <th>doggo</th>\n",
       "      <th>floofer</th>\n",
       "      <th>pupper</th>\n",
       "      <th>puppo</th>\n",
       "    </tr>\n",
       "  </thead>\n",
       "  <tbody>\n",
       "  </tbody>\n",
       "</table>\n",
       "</div>"
      ],
      "text/plain": [
       "Empty DataFrame\n",
       "Columns: [tweet_id, in_reply_to_status_id, in_reply_to_user_id, timestamp, source, text, retweeted_status_id, retweeted_status_user_id, retweeted_status_timestamp, expanded_urls, rating_numerator, rating_denominator, name, doggo, floofer, pupper, puppo]\n",
       "Index: []"
      ]
     },
     "execution_count": 11,
     "metadata": {},
     "output_type": "execute_result"
    }
   ],
   "source": [
    "# 查看tweet_id是否有重复列\n",
    "df_twitter_archive[df_twitter_archive.tweet_id.duplicated()]"
   ]
  },
  {
   "cell_type": "code",
   "execution_count": 12,
   "metadata": {},
   "outputs": [
    {
     "data": {
      "text/plain": [
       "(78, 17)"
      ]
     },
     "execution_count": 12,
     "metadata": {},
     "output_type": "execute_result"
    }
   ],
   "source": [
    "# 查看是否有转发的推文\n",
    "df_twitter_archive[~((df_twitter_archive.in_reply_to_status_id.isnull()) | (df_twitter_archive.in_reply_to_user_id.isnull()))].shape"
   ]
  },
  {
   "cell_type": "code",
   "execution_count": 13,
   "metadata": {},
   "outputs": [
    {
     "name": "stdout",
     "output_type": "stream",
     "text": [
      "********** doggo **********\n",
      "None     2259\n",
      "doggo      97\n",
      "Name: doggo, dtype: int64\n",
      "********** floofer **********\n",
      "None       2346\n",
      "floofer      10\n",
      "Name: floofer, dtype: int64\n",
      "********** pupper **********\n",
      "None      2099\n",
      "pupper     257\n",
      "Name: pupper, dtype: int64\n",
      "********** puppo **********\n",
      "None     2326\n",
      "puppo      30\n",
      "Name: puppo, dtype: int64\n",
      "********** name **********\n",
      "None       745\n",
      "a           55\n",
      "Charlie     12\n",
      "Cooper      11\n",
      "Lucy        11\n",
      "Oliver      11\n",
      "Lola        10\n",
      "Penny       10\n",
      "Tucker      10\n",
      "Bo           9\n",
      "Name: name, dtype: int64\n"
     ]
    }
   ],
   "source": [
    "# 查看name、doggo、floofer、pupper、puppo列信息\n",
    "cols = ['doggo','floofer', 'pupper','puppo', 'name']\n",
    "for col in cols:\n",
    "    print('*' * 10, col , '*' * 10)\n",
    "    print(df_twitter_archive[col].value_counts().head(10))"
   ]
  },
  {
   "cell_type": "code",
   "execution_count": 14,
   "metadata": {},
   "outputs": [
    {
     "data": {
      "text/plain": [
       "0    2017-08-01 16:23:56 +0000\n",
       "1    2017-08-01 00:17:27 +0000\n",
       "2    2017-07-31 00:18:03 +0000\n",
       "3    2017-07-30 15:58:51 +0000\n",
       "4    2017-07-29 16:00:24 +0000\n",
       "Name: timestamp, dtype: object"
      ]
     },
     "execution_count": 14,
     "metadata": {},
     "output_type": "execute_result"
    }
   ],
   "source": [
    "# 查看最近的时间是否大于2017-08-01\n",
    "df_twitter_archive.timestamp.sort_values(ascending=False).head()"
   ]
  },
  {
   "cell_type": "code",
   "execution_count": 15,
   "metadata": {},
   "outputs": [
    {
     "name": "stdout",
     "output_type": "stream",
     "text": [
      "[{'index': 45, 'text_rates': ['13.5/10 '], 'current_rating_numerator': 5}, {'index': 340, 'text_rates': ['9.75/10 '], 'current_rating_numerator': 75}, {'index': 695, 'text_rates': ['9.75/10 '], 'current_rating_numerator': 75}, {'index': 763, 'text_rates': ['11.27/10 '], 'current_rating_numerator': 27}, {'index': 1689, 'text_rates': ['9.5/10'], 'current_rating_numerator': 5}, {'index': 1712, 'text_rates': ['11.26/10 '], 'current_rating_numerator': 26}]\n"
     ]
    }
   ],
   "source": [
    "# 检查 rating_numerator 的正确与否\n",
    "# pattern = re.compile(r'[0-9]?\\.?\\d{1,10}\\/\\d{1,10}\\s?')\n",
    "pattern = re.compile(r'\\d{0,10}\\.?\\d{1,10}\\/\\d{1,10}\\s?')\n",
    "wrong_numerator = []\n",
    "\n",
    "def getWrongRateNumerator(df):\n",
    "    for idx, row in df.iterrows():\n",
    "        rates = re.findall(pattern, df.loc[idx,:].text)\n",
    "        try:\n",
    "            # multi num/num  select first combination\n",
    "            rate = rates[0].strip().split('/')[0]\n",
    "            # Handling the beginning character: point ,eg .10\n",
    "            if rate.startswith('.'):\n",
    "                rate = rate[1:]\n",
    "            if float(rate) != float(row['rating_numerator']):\n",
    "                wrong_numerator.append({\"index\": idx, \n",
    "                                        \"text_rates\": rates, \n",
    "                                        \"current_rating_numerator\": row['rating_numerator']\n",
    "                                       })\n",
    "        except IndexError as err:\n",
    "            wrong_numerator.append({\"index\": idx, \n",
    "                                    \"text_rates\": rates, \n",
    "                                    \"current_rating_numerator\": row['rating_numerator']\n",
    "                                   })\n",
    "\n",
    "# 传入df_twitter_archive dataframe\n",
    "getWrongRateNumerator(df_twitter_archive)\n",
    "# 查看结果\n",
    "print(wrong_numerator)"
   ]
  },
  {
   "cell_type": "code",
   "execution_count": 16,
   "metadata": {},
   "outputs": [
    {
     "data": {
      "text/html": [
       "<div>\n",
       "<style scoped>\n",
       "    .dataframe tbody tr th:only-of-type {\n",
       "        vertical-align: middle;\n",
       "    }\n",
       "\n",
       "    .dataframe tbody tr th {\n",
       "        vertical-align: top;\n",
       "    }\n",
       "\n",
       "    .dataframe thead th {\n",
       "        text-align: right;\n",
       "    }\n",
       "</style>\n",
       "<table border=\"1\" class=\"dataframe\">\n",
       "  <thead>\n",
       "    <tr style=\"text-align: right;\">\n",
       "      <th></th>\n",
       "      <th>index</th>\n",
       "      <th>text_rates</th>\n",
       "      <th>current_rating_numerator</th>\n",
       "    </tr>\n",
       "  </thead>\n",
       "  <tbody>\n",
       "    <tr>\n",
       "      <th>0</th>\n",
       "      <td>45</td>\n",
       "      <td>[13.5/10 ]</td>\n",
       "      <td>5</td>\n",
       "    </tr>\n",
       "    <tr>\n",
       "      <th>1</th>\n",
       "      <td>340</td>\n",
       "      <td>[9.75/10 ]</td>\n",
       "      <td>75</td>\n",
       "    </tr>\n",
       "    <tr>\n",
       "      <th>2</th>\n",
       "      <td>695</td>\n",
       "      <td>[9.75/10 ]</td>\n",
       "      <td>75</td>\n",
       "    </tr>\n",
       "    <tr>\n",
       "      <th>3</th>\n",
       "      <td>763</td>\n",
       "      <td>[11.27/10 ]</td>\n",
       "      <td>27</td>\n",
       "    </tr>\n",
       "    <tr>\n",
       "      <th>4</th>\n",
       "      <td>1689</td>\n",
       "      <td>[9.5/10]</td>\n",
       "      <td>5</td>\n",
       "    </tr>\n",
       "    <tr>\n",
       "      <th>5</th>\n",
       "      <td>1712</td>\n",
       "      <td>[11.26/10 ]</td>\n",
       "      <td>26</td>\n",
       "    </tr>\n",
       "  </tbody>\n",
       "</table>\n",
       "</div>"
      ],
      "text/plain": [
       "   index   text_rates  current_rating_numerator\n",
       "0     45   [13.5/10 ]                         5\n",
       "1    340   [9.75/10 ]                        75\n",
       "2    695   [9.75/10 ]                        75\n",
       "3    763  [11.27/10 ]                        27\n",
       "4   1689     [9.5/10]                         5\n",
       "5   1712  [11.26/10 ]                        26"
      ]
     },
     "execution_count": 16,
     "metadata": {},
     "output_type": "execute_result"
    }
   ],
   "source": [
    "df_wrong_numerator = pd.DataFrame(data=wrong_numerator, columns=[\"index\", \"text_rates\", \"current_rating_numerator\"])\n",
    "df_wrong_numerator"
   ]
  },
  {
   "cell_type": "code",
   "execution_count": 17,
   "metadata": {},
   "outputs": [
    {
     "name": "stdout",
     "output_type": "stream",
     "text": [
      "45   13.5/10                 5   10\n",
      "340  9.75/10                75   10\n",
      "695  9.75/10                75   10\n",
      "763  11.27/10               27   10\n",
      "1689 9.5/10                  5   10\n",
      "1712 11.26/10               26   10\n"
     ]
    }
   ],
   "source": [
    "# 查看 错误的 rating_numerator值: index, text , rating_numerator, rating_denominator\n",
    "for item in wrong_numerator:\n",
    "    print(\"{:<4} {:<20s} {:>4} {:>4}\".format(item[\"index\"], item[\"text_rates\"][0],\n",
    "                                              df_twitter_archive.loc[item[\"index\"],:].rating_numerator,\n",
    "                                              df_twitter_archive.loc[item[\"index\"],:].rating_denominator))"
   ]
  },
  {
   "cell_type": "code",
   "execution_count": 18,
   "metadata": {},
   "outputs": [
    {
     "data": {
      "text/html": [
       "<div>\n",
       "<style scoped>\n",
       "    .dataframe tbody tr th:only-of-type {\n",
       "        vertical-align: middle;\n",
       "    }\n",
       "\n",
       "    .dataframe tbody tr th {\n",
       "        vertical-align: top;\n",
       "    }\n",
       "\n",
       "    .dataframe thead th {\n",
       "        text-align: right;\n",
       "    }\n",
       "</style>\n",
       "<table border=\"1\" class=\"dataframe\">\n",
       "  <thead>\n",
       "    <tr style=\"text-align: right;\">\n",
       "      <th></th>\n",
       "      <th>text</th>\n",
       "      <th>rating_numerator</th>\n",
       "      <th>rating_denominator</th>\n",
       "    </tr>\n",
       "  </thead>\n",
       "  <tbody>\n",
       "    <tr>\n",
       "      <th>313</th>\n",
       "      <td>@jonnysun @Lin_Manuel ok jomny I know you're excited but 960/00 isn't a valid rating, 13/10 is tho</td>\n",
       "      <td>960</td>\n",
       "      <td>0</td>\n",
       "    </tr>\n",
       "    <tr>\n",
       "      <th>342</th>\n",
       "      <td>@docmisterio account started on 11/15/15</td>\n",
       "      <td>11</td>\n",
       "      <td>15</td>\n",
       "    </tr>\n",
       "    <tr>\n",
       "      <th>433</th>\n",
       "      <td>The floofs have been released I repeat the floofs have been released. 84/70 https://t.co/NIYC820tmd</td>\n",
       "      <td>84</td>\n",
       "      <td>70</td>\n",
       "    </tr>\n",
       "    <tr>\n",
       "      <th>516</th>\n",
       "      <td>Meet Sam. She smiles 24/7 &amp;amp; secretly aspires to be a reindeer. \\nKeep Sam smiling by clicking and sharing this link:\\nhttps://t.co/98tB8y7y7t https://t.co/LouL5vdvxx</td>\n",
       "      <td>24</td>\n",
       "      <td>7</td>\n",
       "    </tr>\n",
       "    <tr>\n",
       "      <th>784</th>\n",
       "      <td>RT @dog_rates: After so many requests, this is Bretagne. She was the last surviving 9/11 search dog, and our second ever 14/10. RIP https:/…</td>\n",
       "      <td>9</td>\n",
       "      <td>11</td>\n",
       "    </tr>\n",
       "    <tr>\n",
       "      <th>902</th>\n",
       "      <td>Why does this never happen at my front door... 165/150 https://t.co/HmwrdfEfUE</td>\n",
       "      <td>165</td>\n",
       "      <td>150</td>\n",
       "    </tr>\n",
       "    <tr>\n",
       "      <th>1068</th>\n",
       "      <td>After so many requests, this is Bretagne. She was the last surviving 9/11 search dog, and our second ever 14/10. RIP https://t.co/XAVDNDaVgQ</td>\n",
       "      <td>9</td>\n",
       "      <td>11</td>\n",
       "    </tr>\n",
       "    <tr>\n",
       "      <th>1120</th>\n",
       "      <td>Say hello to this unbelievably well behaved squad of doggos. 204/170 would try to pet all at once https://t.co/yGQI3He3xv</td>\n",
       "      <td>204</td>\n",
       "      <td>170</td>\n",
       "    </tr>\n",
       "    <tr>\n",
       "      <th>1165</th>\n",
       "      <td>Happy 4/20 from the squad! 13/10 for all https://t.co/eV1diwds8a</td>\n",
       "      <td>4</td>\n",
       "      <td>20</td>\n",
       "    </tr>\n",
       "    <tr>\n",
       "      <th>1202</th>\n",
       "      <td>This is Bluebert. He just saw that both #FinalFur match ups are split 50/50. Amazed af. 11/10 https://t.co/Kky1DPG4iq</td>\n",
       "      <td>50</td>\n",
       "      <td>50</td>\n",
       "    </tr>\n",
       "    <tr>\n",
       "      <th>1228</th>\n",
       "      <td>Happy Saturday here's 9 puppers on a bench. 99/90 good work everybody https://t.co/mpvaVxKmc1</td>\n",
       "      <td>99</td>\n",
       "      <td>90</td>\n",
       "    </tr>\n",
       "    <tr>\n",
       "      <th>1254</th>\n",
       "      <td>Here's a brigade of puppers. All look very prepared for whatever happens next. 80/80 https://t.co/0eb7R1Om12</td>\n",
       "      <td>80</td>\n",
       "      <td>80</td>\n",
       "    </tr>\n",
       "    <tr>\n",
       "      <th>1274</th>\n",
       "      <td>From left to right:\\nCletus, Jerome, Alejandro, Burp, &amp;amp; Titson\\nNone know where camera is. 45/50 would hug all at once https://t.co/sedre1ivTK</td>\n",
       "      <td>45</td>\n",
       "      <td>50</td>\n",
       "    </tr>\n",
       "    <tr>\n",
       "      <th>1351</th>\n",
       "      <td>Here is a whole flock of puppers.  60/50 I'll take the lot https://t.co/9dpcw6MdWa</td>\n",
       "      <td>60</td>\n",
       "      <td>50</td>\n",
       "    </tr>\n",
       "    <tr>\n",
       "      <th>1433</th>\n",
       "      <td>Happy Wednesday here's a bucket of pups. 44/40 would pet all at once https://t.co/HppvrYuamZ</td>\n",
       "      <td>44</td>\n",
       "      <td>40</td>\n",
       "    </tr>\n",
       "    <tr>\n",
       "      <th>1598</th>\n",
       "      <td>Yes I do realize a rating of 4/20 would've been fitting. However, it would be unjust to give these cooperative pups that low of a rating</td>\n",
       "      <td>4</td>\n",
       "      <td>20</td>\n",
       "    </tr>\n",
       "    <tr>\n",
       "      <th>1634</th>\n",
       "      <td>Two sneaky puppers were not initially seen, moving the rating to 143/130. Please forgive us. Thank you https://t.co/kRK51Y5ac3</td>\n",
       "      <td>143</td>\n",
       "      <td>130</td>\n",
       "    </tr>\n",
       "    <tr>\n",
       "      <th>1635</th>\n",
       "      <td>Someone help the girl is being mugged. Several are distracting her while two steal her shoes. Clever puppers 121/110 https://t.co/1zfnTJLt55</td>\n",
       "      <td>121</td>\n",
       "      <td>110</td>\n",
       "    </tr>\n",
       "    <tr>\n",
       "      <th>1662</th>\n",
       "      <td>This is Darrel. He just robbed a 7/11 and is in a high speed police chase. Was just spotted by the helicopter 10/10 https://t.co/7EsP8LmSp5</td>\n",
       "      <td>7</td>\n",
       "      <td>11</td>\n",
       "    </tr>\n",
       "    <tr>\n",
       "      <th>1663</th>\n",
       "      <td>I'm aware that I could've said 20/16, but here at WeRateDogs we are very professional. An inconsistent rating scale is simply irresponsible</td>\n",
       "      <td>20</td>\n",
       "      <td>16</td>\n",
       "    </tr>\n",
       "    <tr>\n",
       "      <th>1779</th>\n",
       "      <td>IT'S PUPPERGEDDON. Total of 144/120 ...I think https://t.co/ZanVtAtvIq</td>\n",
       "      <td>144</td>\n",
       "      <td>120</td>\n",
       "    </tr>\n",
       "    <tr>\n",
       "      <th>1843</th>\n",
       "      <td>Here we have an entire platoon of puppers. Total score: 88/80 would pet all at once https://t.co/y93p6FLvVw</td>\n",
       "      <td>88</td>\n",
       "      <td>80</td>\n",
       "    </tr>\n",
       "    <tr>\n",
       "      <th>2335</th>\n",
       "      <td>This is an Albanian 3 1/2 legged  Episcopalian. Loves well-polished hardwood flooring. Penis on the collar. 9/10 https://t.co/d9NcXFKwLv</td>\n",
       "      <td>1</td>\n",
       "      <td>2</td>\n",
       "    </tr>\n",
       "  </tbody>\n",
       "</table>\n",
       "</div>"
      ],
      "text/plain": [
       "                                                                                                                                                                           text  \\\n",
       "313                                                                          @jonnysun @Lin_Manuel ok jomny I know you're excited but 960/00 isn't a valid rating, 13/10 is tho   \n",
       "342                                                                                                                                    @docmisterio account started on 11/15/15   \n",
       "433                                                                         The floofs have been released I repeat the floofs have been released. 84/70 https://t.co/NIYC820tmd   \n",
       "516   Meet Sam. She smiles 24/7 &amp; secretly aspires to be a reindeer. \\nKeep Sam smiling by clicking and sharing this link:\\nhttps://t.co/98tB8y7y7t https://t.co/LouL5vdvxx   \n",
       "784                                RT @dog_rates: After so many requests, this is Bretagne. She was the last surviving 9/11 search dog, and our second ever 14/10. RIP https:/…   \n",
       "902                                                                                              Why does this never happen at my front door... 165/150 https://t.co/HmwrdfEfUE   \n",
       "1068                               After so many requests, this is Bretagne. She was the last surviving 9/11 search dog, and our second ever 14/10. RIP https://t.co/XAVDNDaVgQ   \n",
       "1120                                                  Say hello to this unbelievably well behaved squad of doggos. 204/170 would try to pet all at once https://t.co/yGQI3He3xv   \n",
       "1165                                                                                                           Happy 4/20 from the squad! 13/10 for all https://t.co/eV1diwds8a   \n",
       "1202                                                      This is Bluebert. He just saw that both #FinalFur match ups are split 50/50. Amazed af. 11/10 https://t.co/Kky1DPG4iq   \n",
       "1228                                                                              Happy Saturday here's 9 puppers on a bench. 99/90 good work everybody https://t.co/mpvaVxKmc1   \n",
       "1254                                                               Here's a brigade of puppers. All look very prepared for whatever happens next. 80/80 https://t.co/0eb7R1Om12   \n",
       "1274                         From left to right:\\nCletus, Jerome, Alejandro, Burp, &amp; Titson\\nNone know where camera is. 45/50 would hug all at once https://t.co/sedre1ivTK   \n",
       "1351                                                                                         Here is a whole flock of puppers.  60/50 I'll take the lot https://t.co/9dpcw6MdWa   \n",
       "1433                                                                               Happy Wednesday here's a bucket of pups. 44/40 would pet all at once https://t.co/HppvrYuamZ   \n",
       "1598                                   Yes I do realize a rating of 4/20 would've been fitting. However, it would be unjust to give these cooperative pups that low of a rating   \n",
       "1634                                             Two sneaky puppers were not initially seen, moving the rating to 143/130. Please forgive us. Thank you https://t.co/kRK51Y5ac3   \n",
       "1635                               Someone help the girl is being mugged. Several are distracting her while two steal her shoes. Clever puppers 121/110 https://t.co/1zfnTJLt55   \n",
       "1662                                This is Darrel. He just robbed a 7/11 and is in a high speed police chase. Was just spotted by the helicopter 10/10 https://t.co/7EsP8LmSp5   \n",
       "1663                                I'm aware that I could've said 20/16, but here at WeRateDogs we are very professional. An inconsistent rating scale is simply irresponsible   \n",
       "1779                                                                                                     IT'S PUPPERGEDDON. Total of 144/120 ...I think https://t.co/ZanVtAtvIq   \n",
       "1843                                                                Here we have an entire platoon of puppers. Total score: 88/80 would pet all at once https://t.co/y93p6FLvVw   \n",
       "2335                                   This is an Albanian 3 1/2 legged  Episcopalian. Loves well-polished hardwood flooring. Penis on the collar. 9/10 https://t.co/d9NcXFKwLv   \n",
       "\n",
       "      rating_numerator  rating_denominator  \n",
       "313                960                   0  \n",
       "342                 11                  15  \n",
       "433                 84                  70  \n",
       "516                 24                   7  \n",
       "784                  9                  11  \n",
       "902                165                 150  \n",
       "1068                 9                  11  \n",
       "1120               204                 170  \n",
       "1165                 4                  20  \n",
       "1202                50                  50  \n",
       "1228                99                  90  \n",
       "1254                80                  80  \n",
       "1274                45                  50  \n",
       "1351                60                  50  \n",
       "1433                44                  40  \n",
       "1598                 4                  20  \n",
       "1634               143                 130  \n",
       "1635               121                 110  \n",
       "1662                 7                  11  \n",
       "1663                20                  16  \n",
       "1779               144                 120  \n",
       "1843                88                  80  \n",
       "2335                 1                   2  "
      ]
     },
     "execution_count": 18,
     "metadata": {},
     "output_type": "execute_result"
    }
   ],
   "source": [
    "# 检查分母不等10的数据样本\n",
    "pd.set_option('max_colwidth',200)\n",
    "df_twitter_archive.query('rating_denominator != 10')[['text','rating_numerator','rating_denominator']]\n"
   ]
  },
  {
   "cell_type": "code",
   "execution_count": 19,
   "metadata": {},
   "outputs": [
    {
     "name": "stdout",
     "output_type": "stream",
     "text": [
      "(2075, 1)\n",
      "(2352, 1)\n"
     ]
    }
   ],
   "source": [
    "# 确认 tweet_id的包含关系, 确认 df_image_predictions 和 df_tweet_retweet_favorite 的 tweet_id都包含在df_twitter_archive中\n",
    "print(df_image_predictions.loc[df_image_predictions.tweet_id.isin(df_twitter_archive.tweet_id), ['tweet_id']].shape)\n",
    "print(df_tweet_retweet_favorite.loc[df_tweet_retweet_favorite.tweet_id.isin(df_twitter_archive.tweet_id), ['tweet_id']].shape)"
   ]
  },
  {
   "cell_type": "code",
   "execution_count": 20,
   "metadata": {},
   "outputs": [
    {
     "data": {
      "text/plain": [
       "(2075, 12)"
      ]
     },
     "execution_count": 20,
     "metadata": {},
     "output_type": "execute_result"
    }
   ],
   "source": [
    "df_image_predictions.shape"
   ]
  },
  {
   "cell_type": "code",
   "execution_count": 21,
   "metadata": {},
   "outputs": [
    {
     "data": {
      "text/plain": [
       "(2352, 5)"
      ]
     },
     "execution_count": 21,
     "metadata": {},
     "output_type": "execute_result"
    }
   ],
   "source": [
    "df_tweet_retweet_favorite.shape"
   ]
  },
  {
   "cell_type": "code",
   "execution_count": 22,
   "metadata": {},
   "outputs": [
    {
     "data": {
      "text/html": [
       "<div>\n",
       "<style scoped>\n",
       "    .dataframe tbody tr th:only-of-type {\n",
       "        vertical-align: middle;\n",
       "    }\n",
       "\n",
       "    .dataframe tbody tr th {\n",
       "        vertical-align: top;\n",
       "    }\n",
       "\n",
       "    .dataframe thead th {\n",
       "        text-align: right;\n",
       "    }\n",
       "</style>\n",
       "<table border=\"1\" class=\"dataframe\">\n",
       "  <thead>\n",
       "    <tr style=\"text-align: right;\">\n",
       "      <th></th>\n",
       "      <th>tweet_id</th>\n",
       "      <th>in_reply_to_status_id</th>\n",
       "      <th>in_reply_to_user_id</th>\n",
       "      <th>timestamp</th>\n",
       "      <th>source</th>\n",
       "      <th>text</th>\n",
       "      <th>retweeted_status_id</th>\n",
       "      <th>retweeted_status_user_id</th>\n",
       "      <th>retweeted_status_timestamp</th>\n",
       "      <th>expanded_urls</th>\n",
       "      <th>rating_numerator</th>\n",
       "      <th>rating_denominator</th>\n",
       "      <th>name</th>\n",
       "      <th>doggo</th>\n",
       "      <th>floofer</th>\n",
       "      <th>pupper</th>\n",
       "      <th>puppo</th>\n",
       "    </tr>\n",
       "  </thead>\n",
       "  <tbody>\n",
       "  </tbody>\n",
       "</table>\n",
       "</div>"
      ],
      "text/plain": [
       "Empty DataFrame\n",
       "Columns: [tweet_id, in_reply_to_status_id, in_reply_to_user_id, timestamp, source, text, retweeted_status_id, retweeted_status_user_id, retweeted_status_timestamp, expanded_urls, rating_numerator, rating_denominator, name, doggo, floofer, pupper, puppo]\n",
       "Index: []"
      ]
     },
     "execution_count": 22,
     "metadata": {},
     "output_type": "execute_result"
    }
   ],
   "source": [
    "# 查看rating是否有空值\n",
    "df_twitter_archive[df_twitter_archive.rating_numerator.isnull()]"
   ]
  },
  {
   "cell_type": "code",
   "execution_count": 23,
   "metadata": {},
   "outputs": [
    {
     "data": {
      "text/html": [
       "<div>\n",
       "<style scoped>\n",
       "    .dataframe tbody tr th:only-of-type {\n",
       "        vertical-align: middle;\n",
       "    }\n",
       "\n",
       "    .dataframe tbody tr th {\n",
       "        vertical-align: top;\n",
       "    }\n",
       "\n",
       "    .dataframe thead th {\n",
       "        text-align: right;\n",
       "    }\n",
       "</style>\n",
       "<table border=\"1\" class=\"dataframe\">\n",
       "  <thead>\n",
       "    <tr style=\"text-align: right;\">\n",
       "      <th></th>\n",
       "      <th>tweet_id</th>\n",
       "      <th>in_reply_to_status_id</th>\n",
       "      <th>in_reply_to_user_id</th>\n",
       "      <th>timestamp</th>\n",
       "      <th>source</th>\n",
       "      <th>text</th>\n",
       "      <th>retweeted_status_id</th>\n",
       "      <th>retweeted_status_user_id</th>\n",
       "      <th>retweeted_status_timestamp</th>\n",
       "      <th>expanded_urls</th>\n",
       "      <th>rating_numerator</th>\n",
       "      <th>rating_denominator</th>\n",
       "      <th>name</th>\n",
       "      <th>doggo</th>\n",
       "      <th>floofer</th>\n",
       "      <th>pupper</th>\n",
       "      <th>puppo</th>\n",
       "    </tr>\n",
       "  </thead>\n",
       "  <tbody>\n",
       "  </tbody>\n",
       "</table>\n",
       "</div>"
      ],
      "text/plain": [
       "Empty DataFrame\n",
       "Columns: [tweet_id, in_reply_to_status_id, in_reply_to_user_id, timestamp, source, text, retweeted_status_id, retweeted_status_user_id, retweeted_status_timestamp, expanded_urls, rating_numerator, rating_denominator, name, doggo, floofer, pupper, puppo]\n",
       "Index: []"
      ]
     },
     "execution_count": 23,
     "metadata": {},
     "output_type": "execute_result"
    }
   ],
   "source": [
    "df_twitter_archive[df_twitter_archive.rating_denominator.isnull()]"
   ]
  },
  {
   "cell_type": "code",
   "execution_count": null,
   "metadata": {},
   "outputs": [],
   "source": []
  },
  {
   "cell_type": "markdown",
   "metadata": {},
   "source": [
    "# 清理"
   ]
  },
  {
   "cell_type": "code",
   "execution_count": 24,
   "metadata": {},
   "outputs": [],
   "source": [
    "twitter_archive_clean = df_twitter_archive.copy()\n",
    "tweet_retweet_favorite_clean = df_tweet_retweet_favorite.copy()\n",
    "image_predictions_clean = df_image_predictions.copy()"
   ]
  },
  {
   "cell_type": "markdown",
   "metadata": {},
   "source": [
    "### 数据质量处理\n",
    "\n",
    "####  `retweeted_status_timestamp` 和 `timestamp`  类型\n",
    "\n",
    "##### 定义\n",
    "*`retweeted_status_timestamp` 使用 pandas.to_datetime修改数据类型*\n",
    "\n",
    "*`timestamp` 使用 pandas.to_datetime修改数据类型*\n",
    "\n",
    "##### 代码"
   ]
  },
  {
   "cell_type": "code",
   "execution_count": 25,
   "metadata": {},
   "outputs": [],
   "source": [
    "twitter_archive_clean.retweeted_status_timestamp = pd.to_datetime(twitter_archive_clean.retweeted_status_timestamp)\n",
    "twitter_archive_clean.timestamp = pd.to_datetime(twitter_archive_clean.timestamp)"
   ]
  },
  {
   "cell_type": "markdown",
   "metadata": {},
   "source": [
    "##### 测试"
   ]
  },
  {
   "cell_type": "code",
   "execution_count": 26,
   "metadata": {},
   "outputs": [
    {
     "name": "stdout",
     "output_type": "stream",
     "text": [
      "<class 'pandas.core.frame.DataFrame'>\n",
      "RangeIndex: 2356 entries, 0 to 2355\n",
      "Data columns (total 17 columns):\n",
      "tweet_id                      2356 non-null int64\n",
      "in_reply_to_status_id         78 non-null float64\n",
      "in_reply_to_user_id           78 non-null float64\n",
      "timestamp                     2356 non-null datetime64[ns, UTC]\n",
      "source                        2356 non-null object\n",
      "text                          2356 non-null object\n",
      "retweeted_status_id           181 non-null float64\n",
      "retweeted_status_user_id      181 non-null float64\n",
      "retweeted_status_timestamp    181 non-null datetime64[ns, UTC]\n",
      "expanded_urls                 2297 non-null object\n",
      "rating_numerator              2356 non-null int64\n",
      "rating_denominator            2356 non-null int64\n",
      "name                          2356 non-null object\n",
      "doggo                         2356 non-null object\n",
      "floofer                       2356 non-null object\n",
      "pupper                        2356 non-null object\n",
      "puppo                         2356 non-null object\n",
      "dtypes: datetime64[ns, UTC](2), float64(4), int64(3), object(8)\n",
      "memory usage: 313.0+ KB\n"
     ]
    }
   ],
   "source": [
    "twitter_archive_clean.info()"
   ]
  },
  {
   "cell_type": "markdown",
   "metadata": {},
   "source": [
    "####  in_reply_to_status_id、in_reply_to_user_id 查看有重复的推文 (78条)\n",
    "\n",
    "##### 定义\n",
    "*删除 `in_reply_to_status_id、in_reply_to_user_id` 有值得行。*\n",
    "\n",
    "##### 代码"
   ]
  },
  {
   "cell_type": "code",
   "execution_count": 27,
   "metadata": {},
   "outputs": [],
   "source": [
    "twitter_archive_clean = twitter_archive_clean[twitter_archive_clean.in_reply_to_status_id.isnull()]"
   ]
  },
  {
   "cell_type": "markdown",
   "metadata": {},
   "source": [
    "##### 测试"
   ]
  },
  {
   "cell_type": "code",
   "execution_count": 28,
   "metadata": {},
   "outputs": [
    {
     "data": {
      "text/plain": [
       "(0, 17)"
      ]
     },
     "execution_count": 28,
     "metadata": {},
     "output_type": "execute_result"
    }
   ],
   "source": [
    "twitter_archive_clean[~(twitter_archive_clean.in_reply_to_status_id.isnull())].shape"
   ]
  },
  {
   "cell_type": "markdown",
   "metadata": {},
   "source": [
    "#### retweeted_status_id、retweeted_status_user_id 有转发的推文 (181条)\n",
    "\n",
    "#### 定义\n",
    "*删除 retweeted_status_id、retweeted_status_user_id  有值得记录*\n",
    "\n",
    "#### 代码"
   ]
  },
  {
   "cell_type": "code",
   "execution_count": 29,
   "metadata": {},
   "outputs": [],
   "source": [
    "twitter_archive_clean = twitter_archive_clean[twitter_archive_clean.retweeted_status_id.isnull()]"
   ]
  },
  {
   "cell_type": "markdown",
   "metadata": {},
   "source": [
    "#### 测试"
   ]
  },
  {
   "cell_type": "code",
   "execution_count": 30,
   "metadata": {},
   "outputs": [
    {
     "data": {
      "text/plain": [
       "(0, 17)"
      ]
     },
     "execution_count": 30,
     "metadata": {},
     "output_type": "execute_result"
    }
   ],
   "source": [
    "twitter_archive_clean[~(twitter_archive_clean.retweeted_status_id.isnull())].shape"
   ]
  },
  {
   "cell_type": "markdown",
   "metadata": {},
   "source": [
    "#### source 列包含html信息\n",
    "\n",
    "##### 定义\n",
    "*使用正则表达式: ，匹配删除无用的html字符*\n",
    "\n",
    "##### 代码"
   ]
  },
  {
   "cell_type": "code",
   "execution_count": 31,
   "metadata": {},
   "outputs": [],
   "source": [
    "twitter_archive_clean.source = twitter_archive_clean.source.str.extract('>(.+?)<',expand = True)\n",
    "#for idx, row in twitter_archive_clean[['source']].iterrows():\n",
    "#    data = re.findall(r'>(.+?)<', row['source'])\n",
    "#    twitter_archive_clean.loc[idx,'source'] = data[0]"
   ]
  },
  {
   "cell_type": "markdown",
   "metadata": {},
   "source": [
    "##### 测试"
   ]
  },
  {
   "cell_type": "code",
   "execution_count": 32,
   "metadata": {},
   "outputs": [
    {
     "data": {
      "text/plain": [
       "Twitter for iPhone     1964\n",
       "Vine - Make a Scene      91\n",
       "Twitter Web Client       31\n",
       "TweetDeck                11\n",
       "Name: source, dtype: int64"
      ]
     },
     "execution_count": 32,
     "metadata": {},
     "output_type": "execute_result"
    }
   ],
   "source": [
    "twitter_archive_clean.source.value_counts()"
   ]
  },
  {
   "cell_type": "markdown",
   "metadata": {},
   "source": [
    "#### rating_denominator 列有不等于10的值\n",
    "\n",
    "##### 定义\n",
    "**出去rating_denominator 不等于10的记录，一部分修改为正确的值，删除一部分的错误样本记录**\n",
    "\n",
    "##### 代码"
   ]
  },
  {
   "cell_type": "code",
   "execution_count": null,
   "metadata": {},
   "outputs": [],
   "source": [
    "# 处理代码\n",
    "# index: 1068, 1065, 1202, 1662, 2335 的样本 rating_numerator, rating_denominator 值错误\n",
    "for idx, row in twitter_archive_clean.query('rating_denominator != 10')[['text','rating_numerator', 'rating_denominator']].iterrows():\n",
    "    #print(idx,row)\n",
    "    #print(row.text.extract('\\d{0,10}\\.?\\d{1,10}\\/\\d{1,10}\\s?'))\n",
    "    data = re.findall(pattern, row.text)\n",
    "    print(data)\n",
    "    if len(data) > 1:\n",
    "        numerator = data[1].strip().split('/')[0]\n",
    "        denominator = data[1].strip().split('/')[1]\n",
    "        if denominator == 10:\n",
    "            twitter_archive_clean.loc[idx, 'rating_denominator'] = numerator\n",
    "            twitter_archive_clean.loc[idx, 'rating_denominator'] = denominator\n",
    "# 修正后，删除剩余分母不等于10的记录\n",
    "twitter_archive_clean = twitter_archive_clean[twitter_archive_clean.rating_denominator == 10]"
   ]
  },
  {
   "cell_type": "markdown",
   "metadata": {},
   "source": [
    "##### 测试"
   ]
  },
  {
   "cell_type": "code",
   "execution_count": null,
   "metadata": {},
   "outputs": [],
   "source": [
    "twitter_archive_clean.query('rating_denominator != 10')[['text','rating_numerator', 'rating_denominator']]"
   ]
  },
  {
   "cell_type": "markdown",
   "metadata": {},
   "source": [
    "#### rating_numerator 列值错误 （索引号: 695 、340、763、1712、1689、45）\n",
    "\n",
    "##### 定义\n",
    "*取出正确的值，datafarame.loc[index, 'column'] = value 修改为正确的值*\n",
    "\n",
    "##### 代码"
   ]
  },
  {
   "cell_type": "code",
   "execution_count": 33,
   "metadata": {},
   "outputs": [],
   "source": [
    "wrong_numerator = []\n",
    "getWrongRateNumerator(twitter_archive_clean)"
   ]
  },
  {
   "cell_type": "code",
   "execution_count": 34,
   "metadata": {},
   "outputs": [
    {
     "data": {
      "text/plain": [
       "[{'index': 45, 'text_rates': ['13.5/10 '], 'current_rating_numerator': 5},\n",
       " {'index': 695, 'text_rates': ['9.75/10 '], 'current_rating_numerator': 75},\n",
       " {'index': 763, 'text_rates': ['11.27/10 '], 'current_rating_numerator': 27},\n",
       " {'index': 1712, 'text_rates': ['11.26/10 '], 'current_rating_numerator': 26}]"
      ]
     },
     "execution_count": 34,
     "metadata": {},
     "output_type": "execute_result"
    }
   ],
   "source": [
    "wrong_numerator"
   ]
  },
  {
   "cell_type": "code",
   "execution_count": 35,
   "metadata": {},
   "outputs": [],
   "source": [
    "for item in wrong_numerator:\n",
    "    twitter_archive_clean.loc[item[\"index\"], \"rating_numerator\"] = item[\"text_rates\"][0].split('/')[0]"
   ]
  },
  {
   "cell_type": "markdown",
   "metadata": {},
   "source": [
    "##### 测试"
   ]
  },
  {
   "cell_type": "code",
   "execution_count": 36,
   "metadata": {},
   "outputs": [
    {
     "name": "stdout",
     "output_type": "stream",
     "text": [
      "13.5\n",
      "9.75\n",
      "11.27\n",
      "11.26\n"
     ]
    }
   ],
   "source": [
    "for item in wrong_numerator:\n",
    "    print(twitter_archive_clean.loc[item[\"index\"],\"rating_numerator\"])"
   ]
  },
  {
   "cell_type": "markdown",
   "metadata": {},
   "source": [
    "#### name 有745个None, 55个a 值 (从text截取名字有误)\n",
    "\n",
    "##### 定义\n",
    "*使用正则取出name，更正错误的name值*\n",
    "\n",
    "##### 代码"
   ]
  },
  {
   "cell_type": "code",
   "execution_count": 39,
   "metadata": {},
   "outputs": [],
   "source": [
    "# 推文中包含 \"named\" 取 named 后一个单词 作为 name\n",
    "named_pattern = re.compile(r'named\\s[a-zA-z0-9]+.', re.UNICODE)\n",
    "\n",
    "for idx, row in twitter_archive_clean.iterrows():\n",
    "    named = re.findall(named_pattern, row['text'])\n",
    "    if len(named) > 0:\n",
    "        twitter_archive_clean.loc[idx, 'name'] = named[0].split()[-1][:-1]\n"
   ]
  },
  {
   "cell_type": "code",
   "execution_count": 40,
   "metadata": {},
   "outputs": [],
   "source": [
    "# 现有的名字\n",
    "names_list = list(twitter_archive_clean.name.unique())\n",
    "\n",
    "for name in ['a','an','the','None','O']:\n",
    "    names_list.remove(name)\n",
    "\n",
    "# 依据现有的 name 填充 name in ['a', 'an', 'None'] 的 name \n",
    "for idx, row in twitter_archive_clean.iterrows():\n",
    "    for name in names_list:\n",
    "        if name[0].isupper() and len(name) > 1 and  name in row['text'].split() and row['name'] in ['O', 'a','an','the','None']:\n",
    "            twitter_archive_clean.loc[idx,'name'] = name\n",
    "            # print(\"{0}: curname: {1}: names: {2} --> {3} \".format(idx, row['name'], name, row['text']))\n",
    "            break\n"
   ]
  },
  {
   "cell_type": "code",
   "execution_count": 41,
   "metadata": {},
   "outputs": [],
   "source": [
    "# 当 name 为小写或者 name 为 None 的时候，将这些数据的 name 修改为 np.nan\n",
    "mask = (twitter_archive_clean.name.str.islower())|(twitter_archive_clean.name == 'None')\n",
    "twitter_archive_clean.loc[mask, 'name'] = np.nan"
   ]
  },
  {
   "cell_type": "markdown",
   "metadata": {},
   "source": [
    "##### 测试"
   ]
  },
  {
   "cell_type": "code",
   "execution_count": 42,
   "metadata": {},
   "outputs": [
    {
     "data": {
      "text/plain": [
       "Lucy       11\n",
       "Cooper     11\n",
       "Charlie    11\n",
       "Oliver     10\n",
       "Tucker      9\n",
       "Penny       9\n",
       "Winston     8\n",
       "Lola        8\n",
       "Toby        8\n",
       "Happy       8\n",
       "Name: name, dtype: int64"
      ]
     },
     "execution_count": 42,
     "metadata": {},
     "output_type": "execute_result"
    }
   ],
   "source": [
    "twitter_archive_clean.name.value_counts().head(10)"
   ]
  },
  {
   "cell_type": "markdown",
   "metadata": {},
   "source": [
    "#### expanded_urls 有缺失值\n",
    "\n",
    "##### 定义\n",
    "*`expanded_urls`删除NaN的记录*\n",
    "\n",
    "##### 代码\n"
   ]
  },
  {
   "cell_type": "code",
   "execution_count": 43,
   "metadata": {},
   "outputs": [],
   "source": [
    "twitter_archive_clean = twitter_archive_clean[~(twitter_archive_clean.expanded_urls.isnull())]"
   ]
  },
  {
   "cell_type": "markdown",
   "metadata": {},
   "source": [
    "##### 测试"
   ]
  },
  {
   "cell_type": "code",
   "execution_count": 44,
   "metadata": {},
   "outputs": [
    {
     "data": {
      "text/plain": [
       "0"
      ]
     },
     "execution_count": 44,
     "metadata": {},
     "output_type": "execute_result"
    }
   ],
   "source": [
    "twitter_archive_clean.expanded_urls.isnull().sum()"
   ]
  },
  {
   "cell_type": "markdown",
   "metadata": {},
   "source": [
    "### 数据清洁度清理\n",
    "\n",
    "#### doggo、floofer、pupper、puppo 列，有些推文中有明确的stage，对应stage值缺失\n",
    "#### df_twitter_archive doggo、floofer、pupper、puppo 列应该合成一列\n",
    "\n",
    "##### 定义\n",
    "*1. 使用正则re.findall(r'doggo|floofer|pupper|puppo', df.loc[idx,:].text.lower())匹配更新对应列值*\n",
    "\n",
    "*2. 由于4列None值比较多，用python变成的方法合并成一列`stage`*\n",
    "\n",
    "#####  代码"
   ]
  },
  {
   "cell_type": "code",
   "execution_count": 45,
   "metadata": {},
   "outputs": [],
   "source": [
    "# 处理 doggo、floofer、pupper、puppo\n",
    "# doggo 大些的狗\n",
    "# pupper 小狗\n",
    "# puppo 少年狗\n",
    "# floofer 多毛狗\n",
    "def getDogStage(df):\n",
    "    for idx, row in df.iterrows():\n",
    "        #print(idx, row)\n",
    "        result = re.findall(r'doggo|floofer|pupper|puppo', df.loc[idx,:].text.lower())\n",
    "        try:\n",
    "            if len(result) > 0:\n",
    "                df.loc[idx, result[0]] = result[0]\n",
    "                # print(\"{} {} {}\".format(result, idx, df.loc[idx,result[0]]))\n",
    "        except IndexError as err:\n",
    "            print(err)\n",
    "\n",
    "getDogStage(twitter_archive_clean)\n",
    "\n",
    "# 由于4个列None多，meta不适合，使用循环的方式把有值得记录 补录到 `stage` 列\n",
    "twitter_archive_clean['stage'] = np.NaN\n",
    "\n",
    "for idx, row in twitter_archive_clean.iterrows():\n",
    "    for col in ['doggo', 'floofer', 'pupper', 'puppo']:\n",
    "        if row[col] != 'None':\n",
    "            twitter_archive_clean.loc[idx, 'stage'] = col\n",
    "            break\n"
   ]
  },
  {
   "cell_type": "markdown",
   "metadata": {},
   "source": [
    "##### 测试"
   ]
  },
  {
   "cell_type": "code",
   "execution_count": 46,
   "metadata": {},
   "outputs": [
    {
     "data": {
      "text/plain": [
       "(366, 18)"
      ]
     },
     "execution_count": 46,
     "metadata": {},
     "output_type": "execute_result"
    }
   ],
   "source": [
    "twitter_archive_clean[~(twitter_archive_clean.stage.isnull())].shape"
   ]
  },
  {
   "cell_type": "code",
   "execution_count": 47,
   "metadata": {},
   "outputs": [
    {
     "data": {
      "text/plain": [
       "(2077, 18)"
      ]
     },
     "execution_count": 47,
     "metadata": {},
     "output_type": "execute_result"
    }
   ],
   "source": [
    "twitter_archive_clean.shape"
   ]
  },
  {
   "cell_type": "markdown",
   "metadata": {},
   "source": [
    "#### retweet_favorite_clean( 转发、点赞) 、image_predictions_clean.p1 应该是twitter_archive_clean的一部分\n",
    "\n",
    "#####  定义\n",
    "*使用pandas.merge融合两个dataframe*\n",
    "\n",
    "##### 代码"
   ]
  },
  {
   "cell_type": "code",
   "execution_count": 48,
   "metadata": {},
   "outputs": [],
   "source": [
    "twitter_archive_clean = pd.merge(twitter_archive_clean, tweet_retweet_favorite_clean, on='tweet_id', how='left')"
   ]
  },
  {
   "cell_type": "code",
   "execution_count": 49,
   "metadata": {},
   "outputs": [],
   "source": [
    "twitter_archive_clean.drop(['expanded_urls_y', 'jpg_url', 'doggo', 'floofer', 'pupper', 'puppo'],axis=1, inplace=True)"
   ]
  },
  {
   "cell_type": "code",
   "execution_count": 50,
   "metadata": {},
   "outputs": [],
   "source": [
    "twitter_archive_clean = twitter_archive_clean.rename(columns={\"expanded_urls_x\": \"expanded_urls\"})"
   ]
  },
  {
   "cell_type": "code",
   "execution_count": 51,
   "metadata": {},
   "outputs": [],
   "source": [
    "image_temp = image_predictions_clean[['tweet_id', 'p1']]\n",
    "# merge 选择 inner方式，这样可以删除原始推文中没有图片的推文\n",
    "twitter_archive_clean = pd.merge(twitter_archive_clean, image_temp, on='tweet_id', how='inner')\n",
    "twitter_archive_clean.rename(columns={'p1': 'dog_type'},inplace=True)"
   ]
  },
  {
   "cell_type": "markdown",
   "metadata": {},
   "source": [
    "### 存储清理后的主数据集"
   ]
  },
  {
   "cell_type": "code",
   "execution_count": 52,
   "metadata": {},
   "outputs": [],
   "source": [
    "twitter_archive_clean.to_csv('twitter-archive-master.csv', index=False)"
   ]
  },
  {
   "cell_type": "markdown",
   "metadata": {},
   "source": [
    "#### 测试"
   ]
  },
  {
   "cell_type": "code",
   "execution_count": 53,
   "metadata": {},
   "outputs": [
    {
     "data": {
      "text/html": [
       "<div>\n",
       "<style scoped>\n",
       "    .dataframe tbody tr th:only-of-type {\n",
       "        vertical-align: middle;\n",
       "    }\n",
       "\n",
       "    .dataframe tbody tr th {\n",
       "        vertical-align: top;\n",
       "    }\n",
       "\n",
       "    .dataframe thead th {\n",
       "        text-align: right;\n",
       "    }\n",
       "</style>\n",
       "<table border=\"1\" class=\"dataframe\">\n",
       "  <thead>\n",
       "    <tr style=\"text-align: right;\">\n",
       "      <th></th>\n",
       "      <th>tweet_id</th>\n",
       "      <th>in_reply_to_status_id</th>\n",
       "      <th>in_reply_to_user_id</th>\n",
       "      <th>timestamp</th>\n",
       "      <th>source</th>\n",
       "      <th>text</th>\n",
       "      <th>retweeted_status_id</th>\n",
       "      <th>retweeted_status_user_id</th>\n",
       "      <th>retweeted_status_timestamp</th>\n",
       "      <th>expanded_urls</th>\n",
       "      <th>rating_numerator</th>\n",
       "      <th>rating_denominator</th>\n",
       "      <th>name</th>\n",
       "      <th>stage</th>\n",
       "      <th>retweet_count</th>\n",
       "      <th>favorite_count</th>\n",
       "      <th>dog_type</th>\n",
       "    </tr>\n",
       "  </thead>\n",
       "  <tbody>\n",
       "    <tr>\n",
       "      <th>0</th>\n",
       "      <td>892420643555336193</td>\n",
       "      <td>NaN</td>\n",
       "      <td>NaN</td>\n",
       "      <td>2017-08-01 16:23:56+00:00</td>\n",
       "      <td>Twitter for iPhone</td>\n",
       "      <td>This is Phineas. He's a mystical boy. Only ever appears in the hole of a donut. 13/10 https://t.co/MgUWQ76dJU</td>\n",
       "      <td>NaN</td>\n",
       "      <td>NaN</td>\n",
       "      <td>NaT</td>\n",
       "      <td>https://twitter.com/dog_rates/status/892420643555336193/photo/1</td>\n",
       "      <td>13</td>\n",
       "      <td>10</td>\n",
       "      <td>Phineas</td>\n",
       "      <td>NaN</td>\n",
       "      <td>8842</td>\n",
       "      <td>39492</td>\n",
       "      <td>orange</td>\n",
       "    </tr>\n",
       "    <tr>\n",
       "      <th>1</th>\n",
       "      <td>892177421306343426</td>\n",
       "      <td>NaN</td>\n",
       "      <td>NaN</td>\n",
       "      <td>2017-08-01 00:17:27+00:00</td>\n",
       "      <td>Twitter for iPhone</td>\n",
       "      <td>This is Tilly. She's just checking pup on you. Hopes you're doing ok. If not, she's available for pats, snugs, boops, the whole bit. 13/10 https://t.co/0Xxu71qeIV</td>\n",
       "      <td>NaN</td>\n",
       "      <td>NaN</td>\n",
       "      <td>NaT</td>\n",
       "      <td>https://twitter.com/dog_rates/status/892177421306343426/photo/1</td>\n",
       "      <td>13</td>\n",
       "      <td>10</td>\n",
       "      <td>Tilly</td>\n",
       "      <td>NaN</td>\n",
       "      <td>6480</td>\n",
       "      <td>33786</td>\n",
       "      <td>Chihuahua</td>\n",
       "    </tr>\n",
       "  </tbody>\n",
       "</table>\n",
       "</div>"
      ],
      "text/plain": [
       "             tweet_id  in_reply_to_status_id  in_reply_to_user_id  \\\n",
       "0  892420643555336193                    NaN                  NaN   \n",
       "1  892177421306343426                    NaN                  NaN   \n",
       "\n",
       "                  timestamp              source  \\\n",
       "0 2017-08-01 16:23:56+00:00  Twitter for iPhone   \n",
       "1 2017-08-01 00:17:27+00:00  Twitter for iPhone   \n",
       "\n",
       "                                                                                                                                                                 text  \\\n",
       "0                                                       This is Phineas. He's a mystical boy. Only ever appears in the hole of a donut. 13/10 https://t.co/MgUWQ76dJU   \n",
       "1  This is Tilly. She's just checking pup on you. Hopes you're doing ok. If not, she's available for pats, snugs, boops, the whole bit. 13/10 https://t.co/0Xxu71qeIV   \n",
       "\n",
       "   retweeted_status_id  retweeted_status_user_id retweeted_status_timestamp  \\\n",
       "0                  NaN                       NaN                        NaT   \n",
       "1                  NaN                       NaN                        NaT   \n",
       "\n",
       "                                                     expanded_urls  \\\n",
       "0  https://twitter.com/dog_rates/status/892420643555336193/photo/1   \n",
       "1  https://twitter.com/dog_rates/status/892177421306343426/photo/1   \n",
       "\n",
       "  rating_numerator  rating_denominator     name stage  retweet_count  \\\n",
       "0               13                  10  Phineas   NaN           8842   \n",
       "1               13                  10    Tilly   NaN           6480   \n",
       "\n",
       "   favorite_count   dog_type  \n",
       "0           39492     orange  \n",
       "1           33786  Chihuahua  "
      ]
     },
     "execution_count": 53,
     "metadata": {},
     "output_type": "execute_result"
    }
   ],
   "source": [
    "twitter_archive_clean.head(2)"
   ]
  },
  {
   "cell_type": "code",
   "execution_count": 54,
   "metadata": {},
   "outputs": [
    {
     "data": {
      "text/plain": [
       "(1954, 17)"
      ]
     },
     "execution_count": 54,
     "metadata": {},
     "output_type": "execute_result"
    }
   ],
   "source": [
    "twitter_archive_clean.shape"
   ]
  },
  {
   "cell_type": "markdown",
   "metadata": {},
   "source": [
    "# 可视化分析"
   ]
  },
  {
   "cell_type": "markdown",
   "metadata": {},
   "source": [
    "### 见解\n",
    "- 推文主要来源\n",
    "- 狗狗类型占比\n",
    "- 狗狗类型 与 点赞、转发、评分 均值的关系\n"
   ]
  },
  {
   "cell_type": "code",
   "execution_count": 55,
   "metadata": {},
   "outputs": [],
   "source": [
    "import matplotlib.pyplot as plt\n",
    "import seaborn as sns\n",
    "%matplotlib inline\n",
    "\n",
    "plt.rcParams['font.size'] = 12.0"
   ]
  },
  {
   "cell_type": "markdown",
   "metadata": {},
   "source": [
    "### 推文来源占比"
   ]
  },
  {
   "cell_type": "code",
   "execution_count": 56,
   "metadata": {},
   "outputs": [
    {
     "data": {
      "text/plain": [
       "([<matplotlib.patches.Wedge at 0x122c3f5d0>,\n",
       "  <matplotlib.patches.Wedge at 0x122c3fd90>,\n",
       "  <matplotlib.patches.Wedge at 0x122c50590>],\n",
       " [Text(-1.0978382816455385, 0.06892827687946032, 'Twitter for iPhone'),\n",
       "  Text(1.0964476342626728, -0.08833224394176906, 'Twitter Web Client'),\n",
       "  Text(1.0998279798491513, -0.019452885157102116, 'TweetDeck')],\n",
       " [Text(-0.5988208808975664, 0.037597241934251076, '98.0%'),\n",
       "  Text(0.5980623459614578, -0.04818122396823766, '1.4%'),\n",
       "  Text(0.5999061708268096, -0.010610664631146608, '0.6%')])"
      ]
     },
     "execution_count": 56,
     "metadata": {},
     "output_type": "execute_result"
    },
    {
     "data": {
      "image/png": "[encoded data removed]",
      "text/plain": [
       "<Figure size 576x576 with 1 Axes>"
      ]
     },
     "metadata": {},
     "output_type": "display_data"
    }
   ],
   "source": [
    "labels = twitter_archive_clean.source.value_counts().index\n",
    "sizes = twitter_archive_clean.source.value_counts().values\n",
    "fig = plt.figure(1, figsize=(8,8))\n",
    "ax = fig.add_subplot(111)\n",
    "colors = ('#01B8AA', '#F2C80F', 'g', 'r', 'c', 'm', 'y', 'burlywood', 'w')\n",
    "ax.pie(sizes,colors=colors ,labels=labels, autopct='%1.1f%%')\n",
    "#ax.title('Twitter sending platform',fontsize=15)\n"
   ]
  },
  {
   "cell_type": "markdown",
   "metadata": {},
   "source": [
    "### 按dog_type分类统计 和 点赞、转发、评分均值的关系"
   ]
  },
  {
   "cell_type": "code",
   "execution_count": 57,
   "metadata": {},
   "outputs": [],
   "source": [
    "twitter_archive_clean.rating_numerator = twitter_archive_clean.rating_numerator.astype('float64')"
   ]
  },
  {
   "cell_type": "markdown",
   "metadata": {},
   "source": [
    "#### 构造DataFrame"
   ]
  },
  {
   "cell_type": "code",
   "execution_count": 58,
   "metadata": {},
   "outputs": [],
   "source": [
    "dog_type_gb = twitter_archive_clean.groupby(['dog_type'])\n",
    "dog_type_counts = dog_type_gb.size()[dog_type_gb.size()>10].to_frame(name='counts')\n",
    "dog_type_counts = dog_type_counts \\\n",
    ".join(dog_type_gb.agg({'retweet_count': 'median'}).rename(columns={'retweet_count': 'retweet_count_median'})) \\\n",
    ".join(dog_type_gb.agg({'favorite_count': 'median'}).rename(columns={'favorite_count': 'favorite_count_median'})) \\\n",
    ".join(dog_type_gb.agg({'rating_numerator': 'median'}).rename(columns={'rating_numerator': 'rating_numerator_median'})) \\\n",
    ".join(dog_type_gb.agg({'retweet_count': 'mean'}).rename(columns={'retweet_count': 'retweet_count_mean'})) \\\n",
    ".join(dog_type_gb.agg({'favorite_count': 'mean'}).rename(columns={'favorite_count': 'favorite_count_mean'})) \\\n",
    ".join(dog_type_gb.agg({'rating_numerator': 'mean'}).rename(columns={'rating_numerator': 'rating_numerator_mean'}))"
   ]
  },
  {
   "cell_type": "code",
   "execution_count": 59,
   "metadata": {
    "scrolled": true
   },
   "outputs": [
    {
     "data": {
      "text/html": [
       "<div>\n",
       "<style scoped>\n",
       "    .dataframe tbody tr th:only-of-type {\n",
       "        vertical-align: middle;\n",
       "    }\n",
       "\n",
       "    .dataframe tbody tr th {\n",
       "        vertical-align: top;\n",
       "    }\n",
       "\n",
       "    .dataframe thead th {\n",
       "        text-align: right;\n",
       "    }\n",
       "</style>\n",
       "<table border=\"1\" class=\"dataframe\">\n",
       "  <thead>\n",
       "    <tr style=\"text-align: right;\">\n",
       "      <th></th>\n",
       "      <th>dog_type</th>\n",
       "      <th>counts</th>\n",
       "      <th>retweet_count_median</th>\n",
       "      <th>favorite_count_median</th>\n",
       "      <th>rating_numerator_median</th>\n",
       "      <th>retweet_count_mean</th>\n",
       "      <th>favorite_count_mean</th>\n",
       "      <th>rating_numerator_mean</th>\n",
       "    </tr>\n",
       "  </thead>\n",
       "  <tbody>\n",
       "    <tr>\n",
       "      <th>30</th>\n",
       "      <td>golden_retriever</td>\n",
       "      <td>134</td>\n",
       "      <td>2296.0</td>\n",
       "      <td>8253.0</td>\n",
       "      <td>12.00</td>\n",
       "      <td>3632.708955</td>\n",
       "      <td>12369.738806</td>\n",
       "      <td>11.630597</td>\n",
       "    </tr>\n",
       "    <tr>\n",
       "      <th>11</th>\n",
       "      <td>Labrador_retriever</td>\n",
       "      <td>91</td>\n",
       "      <td>1824.0</td>\n",
       "      <td>5962.0</td>\n",
       "      <td>11.00</td>\n",
       "      <td>3929.164835</td>\n",
       "      <td>12094.659341</td>\n",
       "      <td>11.131868</td>\n",
       "    </tr>\n",
       "    <tr>\n",
       "      <th>16</th>\n",
       "      <td>Pembroke</td>\n",
       "      <td>88</td>\n",
       "      <td>1964.0</td>\n",
       "      <td>6521.0</td>\n",
       "      <td>12.00</td>\n",
       "      <td>3170.170455</td>\n",
       "      <td>11270.022727</td>\n",
       "      <td>11.443182</td>\n",
       "    </tr>\n",
       "    <tr>\n",
       "      <th>5</th>\n",
       "      <td>Chihuahua</td>\n",
       "      <td>78</td>\n",
       "      <td>934.5</td>\n",
       "      <td>2935.0</td>\n",
       "      <td>11.00</td>\n",
       "      <td>2800.500000</td>\n",
       "      <td>8603.653846</td>\n",
       "      <td>10.692308</td>\n",
       "    </tr>\n",
       "    <tr>\n",
       "      <th>35</th>\n",
       "      <td>pug</td>\n",
       "      <td>54</td>\n",
       "      <td>985.0</td>\n",
       "      <td>2624.0</td>\n",
       "      <td>10.00</td>\n",
       "      <td>1827.314815</td>\n",
       "      <td>5909.240741</td>\n",
       "      <td>10.240741</td>\n",
       "    </tr>\n",
       "    <tr>\n",
       "      <th>27</th>\n",
       "      <td>chow</td>\n",
       "      <td>41</td>\n",
       "      <td>2213.0</td>\n",
       "      <td>6837.0</td>\n",
       "      <td>12.00</td>\n",
       "      <td>2900.634146</td>\n",
       "      <td>10102.195122</td>\n",
       "      <td>11.609756</td>\n",
       "    </tr>\n",
       "    <tr>\n",
       "      <th>19</th>\n",
       "      <td>Samoyed</td>\n",
       "      <td>40</td>\n",
       "      <td>2679.0</td>\n",
       "      <td>7438.0</td>\n",
       "      <td>12.00</td>\n",
       "      <td>4597.425000</td>\n",
       "      <td>13533.625000</td>\n",
       "      <td>11.700000</td>\n",
       "    </tr>\n",
       "    <tr>\n",
       "      <th>17</th>\n",
       "      <td>Pomeranian</td>\n",
       "      <td>38</td>\n",
       "      <td>1138.0</td>\n",
       "      <td>3053.0</td>\n",
       "      <td>11.00</td>\n",
       "      <td>2863.105263</td>\n",
       "      <td>8103.210526</td>\n",
       "      <td>11.151316</td>\n",
       "    </tr>\n",
       "    <tr>\n",
       "      <th>38</th>\n",
       "      <td>toy_poodle</td>\n",
       "      <td>37</td>\n",
       "      <td>1146.0</td>\n",
       "      <td>4128.0</td>\n",
       "      <td>11.00</td>\n",
       "      <td>2499.351351</td>\n",
       "      <td>6746.540541</td>\n",
       "      <td>11.054054</td>\n",
       "    </tr>\n",
       "    <tr>\n",
       "      <th>33</th>\n",
       "      <td>malamute</td>\n",
       "      <td>29</td>\n",
       "      <td>2177.0</td>\n",
       "      <td>6984.0</td>\n",
       "      <td>11.00</td>\n",
       "      <td>2530.241379</td>\n",
       "      <td>8559.206897</td>\n",
       "      <td>10.896552</td>\n",
       "    </tr>\n",
       "    <tr>\n",
       "      <th>28</th>\n",
       "      <td>cocker_spaniel</td>\n",
       "      <td>27</td>\n",
       "      <td>2035.0</td>\n",
       "      <td>8444.0</td>\n",
       "      <td>12.00</td>\n",
       "      <td>3704.592593</td>\n",
       "      <td>11655.370370</td>\n",
       "      <td>11.296296</td>\n",
       "    </tr>\n",
       "    <tr>\n",
       "      <th>7</th>\n",
       "      <td>French_bulldog</td>\n",
       "      <td>26</td>\n",
       "      <td>2745.5</td>\n",
       "      <td>10379.5</td>\n",
       "      <td>12.00</td>\n",
       "      <td>4656.384615</td>\n",
       "      <td>17854.769231</td>\n",
       "      <td>11.269231</td>\n",
       "    </tr>\n",
       "    <tr>\n",
       "      <th>4</th>\n",
       "      <td>Chesapeake_Bay_retriever</td>\n",
       "      <td>23</td>\n",
       "      <td>1819.0</td>\n",
       "      <td>5729.0</td>\n",
       "      <td>10.00</td>\n",
       "      <td>2832.434783</td>\n",
       "      <td>10550.826087</td>\n",
       "      <td>10.782609</td>\n",
       "    </tr>\n",
       "    <tr>\n",
       "      <th>34</th>\n",
       "      <td>miniature_pinscher</td>\n",
       "      <td>21</td>\n",
       "      <td>1526.0</td>\n",
       "      <td>3864.0</td>\n",
       "      <td>11.00</td>\n",
       "      <td>2469.476190</td>\n",
       "      <td>8913.476190</td>\n",
       "      <td>10.666667</td>\n",
       "    </tr>\n",
       "    <tr>\n",
       "      <th>36</th>\n",
       "      <td>seat_belt</td>\n",
       "      <td>21</td>\n",
       "      <td>2024.0</td>\n",
       "      <td>4994.0</td>\n",
       "      <td>10.00</td>\n",
       "      <td>2753.333333</td>\n",
       "      <td>7936.333333</td>\n",
       "      <td>9.047619</td>\n",
       "    </tr>\n",
       "    <tr>\n",
       "      <th>8</th>\n",
       "      <td>German_shepherd</td>\n",
       "      <td>20</td>\n",
       "      <td>1873.5</td>\n",
       "      <td>7119.5</td>\n",
       "      <td>11.50</td>\n",
       "      <td>2643.050000</td>\n",
       "      <td>10116.400000</td>\n",
       "      <td>11.000000</td>\n",
       "    </tr>\n",
       "    <tr>\n",
       "      <th>22</th>\n",
       "      <td>Siberian_husky</td>\n",
       "      <td>19</td>\n",
       "      <td>1372.0</td>\n",
       "      <td>3675.0</td>\n",
       "      <td>11.00</td>\n",
       "      <td>1791.578947</td>\n",
       "      <td>7218.578947</td>\n",
       "      <td>11.315789</td>\n",
       "    </tr>\n",
       "    <tr>\n",
       "      <th>23</th>\n",
       "      <td>Staffordshire_bullterrier</td>\n",
       "      <td>19</td>\n",
       "      <td>1549.0</td>\n",
       "      <td>4340.0</td>\n",
       "      <td>11.00</td>\n",
       "      <td>2453.000000</td>\n",
       "      <td>9807.526316</td>\n",
       "      <td>10.684211</td>\n",
       "    </tr>\n",
       "    <tr>\n",
       "      <th>6</th>\n",
       "      <td>Eskimo_dog</td>\n",
       "      <td>18</td>\n",
       "      <td>1403.0</td>\n",
       "      <td>5386.5</td>\n",
       "      <td>12.00</td>\n",
       "      <td>4742.444444</td>\n",
       "      <td>11954.944444</td>\n",
       "      <td>11.777778</td>\n",
       "    </tr>\n",
       "    <tr>\n",
       "      <th>20</th>\n",
       "      <td>Shetland_sheepdog</td>\n",
       "      <td>18</td>\n",
       "      <td>1354.5</td>\n",
       "      <td>4248.0</td>\n",
       "      <td>10.50</td>\n",
       "      <td>2398.666667</td>\n",
       "      <td>8555.333333</td>\n",
       "      <td>10.388889</td>\n",
       "    </tr>\n",
       "    <tr>\n",
       "      <th>13</th>\n",
       "      <td>Maltese_dog</td>\n",
       "      <td>17</td>\n",
       "      <td>911.0</td>\n",
       "      <td>2512.0</td>\n",
       "      <td>10.00</td>\n",
       "      <td>1318.470588</td>\n",
       "      <td>3135.882353</td>\n",
       "      <td>9.764706</td>\n",
       "    </tr>\n",
       "    <tr>\n",
       "      <th>21</th>\n",
       "      <td>Shih-Tzu</td>\n",
       "      <td>17</td>\n",
       "      <td>578.0</td>\n",
       "      <td>2756.0</td>\n",
       "      <td>11.00</td>\n",
       "      <td>1508.294118</td>\n",
       "      <td>3816.588235</td>\n",
       "      <td>10.529412</td>\n",
       "    </tr>\n",
       "    <tr>\n",
       "      <th>26</th>\n",
       "      <td>beagle</td>\n",
       "      <td>17</td>\n",
       "      <td>872.0</td>\n",
       "      <td>3911.0</td>\n",
       "      <td>10.00</td>\n",
       "      <td>1406.235294</td>\n",
       "      <td>4708.294118</td>\n",
       "      <td>10.352941</td>\n",
       "    </tr>\n",
       "    <tr>\n",
       "      <th>3</th>\n",
       "      <td>Cardigan</td>\n",
       "      <td>17</td>\n",
       "      <td>2796.0</td>\n",
       "      <td>10556.0</td>\n",
       "      <td>12.00</td>\n",
       "      <td>4513.647059</td>\n",
       "      <td>15251.705882</td>\n",
       "      <td>11.529412</td>\n",
       "    </tr>\n",
       "    <tr>\n",
       "      <th>10</th>\n",
       "      <td>Italian_greyhound</td>\n",
       "      <td>16</td>\n",
       "      <td>1028.0</td>\n",
       "      <td>2987.0</td>\n",
       "      <td>10.50</td>\n",
       "      <td>2310.250000</td>\n",
       "      <td>8698.000000</td>\n",
       "      <td>9.937500</td>\n",
       "    </tr>\n",
       "    <tr>\n",
       "      <th>18</th>\n",
       "      <td>Rottweiler</td>\n",
       "      <td>16</td>\n",
       "      <td>1082.5</td>\n",
       "      <td>3344.5</td>\n",
       "      <td>12.00</td>\n",
       "      <td>2436.062500</td>\n",
       "      <td>7950.937500</td>\n",
       "      <td>11.187500</td>\n",
       "    </tr>\n",
       "    <tr>\n",
       "      <th>37</th>\n",
       "      <td>teddy</td>\n",
       "      <td>16</td>\n",
       "      <td>1192.0</td>\n",
       "      <td>5194.0</td>\n",
       "      <td>11.00</td>\n",
       "      <td>1680.062500</td>\n",
       "      <td>5973.687500</td>\n",
       "      <td>10.750000</td>\n",
       "    </tr>\n",
       "    <tr>\n",
       "      <th>12</th>\n",
       "      <td>Lakeland_terrier</td>\n",
       "      <td>15</td>\n",
       "      <td>1077.0</td>\n",
       "      <td>3086.0</td>\n",
       "      <td>11.00</td>\n",
       "      <td>4673.066667</td>\n",
       "      <td>13163.800000</td>\n",
       "      <td>10.466667</td>\n",
       "    </tr>\n",
       "    <tr>\n",
       "      <th>32</th>\n",
       "      <td>kuvasz</td>\n",
       "      <td>15</td>\n",
       "      <td>1691.0</td>\n",
       "      <td>4959.0</td>\n",
       "      <td>11.26</td>\n",
       "      <td>1543.266667</td>\n",
       "      <td>5593.733333</td>\n",
       "      <td>11.017333</td>\n",
       "    </tr>\n",
       "    <tr>\n",
       "      <th>40</th>\n",
       "      <td>web_site</td>\n",
       "      <td>14</td>\n",
       "      <td>4927.5</td>\n",
       "      <td>15149.5</td>\n",
       "      <td>13.00</td>\n",
       "      <td>5765.428571</td>\n",
       "      <td>17750.000000</td>\n",
       "      <td>12.214286</td>\n",
       "    </tr>\n",
       "    <tr>\n",
       "      <th>25</th>\n",
       "      <td>basset</td>\n",
       "      <td>13</td>\n",
       "      <td>2654.0</td>\n",
       "      <td>8820.0</td>\n",
       "      <td>11.00</td>\n",
       "      <td>3245.846154</td>\n",
       "      <td>13830.076923</td>\n",
       "      <td>11.153846</td>\n",
       "    </tr>\n",
       "    <tr>\n",
       "      <th>24</th>\n",
       "      <td>West_Highland_white_terrier</td>\n",
       "      <td>13</td>\n",
       "      <td>766.0</td>\n",
       "      <td>2571.0</td>\n",
       "      <td>10.00</td>\n",
       "      <td>1381.615385</td>\n",
       "      <td>5944.692308</td>\n",
       "      <td>10.384615</td>\n",
       "    </tr>\n",
       "    <tr>\n",
       "      <th>1</th>\n",
       "      <td>American_Staffordshire_terrier</td>\n",
       "      <td>13</td>\n",
       "      <td>1697.0</td>\n",
       "      <td>5903.0</td>\n",
       "      <td>11.00</td>\n",
       "      <td>2193.461538</td>\n",
       "      <td>7528.230769</td>\n",
       "      <td>11.000000</td>\n",
       "    </tr>\n",
       "    <tr>\n",
       "      <th>15</th>\n",
       "      <td>Pekinese</td>\n",
       "      <td>13</td>\n",
       "      <td>1776.0</td>\n",
       "      <td>5092.0</td>\n",
       "      <td>12.00</td>\n",
       "      <td>2090.769231</td>\n",
       "      <td>7137.615385</td>\n",
       "      <td>11.153846</td>\n",
       "    </tr>\n",
       "    <tr>\n",
       "      <th>9</th>\n",
       "      <td>Great_Pyrenees</td>\n",
       "      <td>13</td>\n",
       "      <td>2112.0</td>\n",
       "      <td>7452.0</td>\n",
       "      <td>12.00</td>\n",
       "      <td>4987.153846</td>\n",
       "      <td>13623.384615</td>\n",
       "      <td>11.461538</td>\n",
       "    </tr>\n",
       "    <tr>\n",
       "      <th>39</th>\n",
       "      <td>vizsla</td>\n",
       "      <td>13</td>\n",
       "      <td>1656.0</td>\n",
       "      <td>5735.0</td>\n",
       "      <td>11.00</td>\n",
       "      <td>1982.384615</td>\n",
       "      <td>7462.692308</td>\n",
       "      <td>10.846154</td>\n",
       "    </tr>\n",
       "    <tr>\n",
       "      <th>29</th>\n",
       "      <td>dalmatian</td>\n",
       "      <td>12</td>\n",
       "      <td>1380.0</td>\n",
       "      <td>5015.0</td>\n",
       "      <td>9.50</td>\n",
       "      <td>1731.000000</td>\n",
       "      <td>5164.583333</td>\n",
       "      <td>9.333333</td>\n",
       "    </tr>\n",
       "    <tr>\n",
       "      <th>2</th>\n",
       "      <td>Border_collie</td>\n",
       "      <td>12</td>\n",
       "      <td>1242.5</td>\n",
       "      <td>4108.0</td>\n",
       "      <td>11.50</td>\n",
       "      <td>2197.083333</td>\n",
       "      <td>8899.583333</td>\n",
       "      <td>10.583333</td>\n",
       "    </tr>\n",
       "    <tr>\n",
       "      <th>0</th>\n",
       "      <td>Airedale</td>\n",
       "      <td>12</td>\n",
       "      <td>987.0</td>\n",
       "      <td>3021.5</td>\n",
       "      <td>10.50</td>\n",
       "      <td>1387.000000</td>\n",
       "      <td>5259.000000</td>\n",
       "      <td>9.833333</td>\n",
       "    </tr>\n",
       "    <tr>\n",
       "      <th>31</th>\n",
       "      <td>kelpie</td>\n",
       "      <td>11</td>\n",
       "      <td>2433.0</td>\n",
       "      <td>9489.0</td>\n",
       "      <td>11.00</td>\n",
       "      <td>2461.181818</td>\n",
       "      <td>9944.181818</td>\n",
       "      <td>11.454545</td>\n",
       "    </tr>\n",
       "    <tr>\n",
       "      <th>14</th>\n",
       "      <td>Old_English_sheepdog</td>\n",
       "      <td>11</td>\n",
       "      <td>1489.0</td>\n",
       "      <td>4992.0</td>\n",
       "      <td>11.00</td>\n",
       "      <td>2578.818182</td>\n",
       "      <td>8241.727273</td>\n",
       "      <td>10.909091</td>\n",
       "    </tr>\n",
       "  </tbody>\n",
       "</table>\n",
       "</div>"
      ],
      "text/plain": [
       "                          dog_type  counts  retweet_count_median  \\\n",
       "30                golden_retriever     134                2296.0   \n",
       "11              Labrador_retriever      91                1824.0   \n",
       "16                        Pembroke      88                1964.0   \n",
       "5                        Chihuahua      78                 934.5   \n",
       "35                             pug      54                 985.0   \n",
       "27                            chow      41                2213.0   \n",
       "19                         Samoyed      40                2679.0   \n",
       "17                      Pomeranian      38                1138.0   \n",
       "38                      toy_poodle      37                1146.0   \n",
       "33                        malamute      29                2177.0   \n",
       "28                  cocker_spaniel      27                2035.0   \n",
       "7                   French_bulldog      26                2745.5   \n",
       "4         Chesapeake_Bay_retriever      23                1819.0   \n",
       "34              miniature_pinscher      21                1526.0   \n",
       "36                       seat_belt      21                2024.0   \n",
       "8                  German_shepherd      20                1873.5   \n",
       "22                  Siberian_husky      19                1372.0   \n",
       "23       Staffordshire_bullterrier      19                1549.0   \n",
       "6                       Eskimo_dog      18                1403.0   \n",
       "20               Shetland_sheepdog      18                1354.5   \n",
       "13                     Maltese_dog      17                 911.0   \n",
       "21                        Shih-Tzu      17                 578.0   \n",
       "26                          beagle      17                 872.0   \n",
       "3                         Cardigan      17                2796.0   \n",
       "10               Italian_greyhound      16                1028.0   \n",
       "18                      Rottweiler      16                1082.5   \n",
       "37                           teddy      16                1192.0   \n",
       "12                Lakeland_terrier      15                1077.0   \n",
       "32                          kuvasz      15                1691.0   \n",
       "40                        web_site      14                4927.5   \n",
       "25                          basset      13                2654.0   \n",
       "24     West_Highland_white_terrier      13                 766.0   \n",
       "1   American_Staffordshire_terrier      13                1697.0   \n",
       "15                        Pekinese      13                1776.0   \n",
       "9                   Great_Pyrenees      13                2112.0   \n",
       "39                          vizsla      13                1656.0   \n",
       "29                       dalmatian      12                1380.0   \n",
       "2                    Border_collie      12                1242.5   \n",
       "0                         Airedale      12                 987.0   \n",
       "31                          kelpie      11                2433.0   \n",
       "14            Old_English_sheepdog      11                1489.0   \n",
       "\n",
       "    favorite_count_median  rating_numerator_median  retweet_count_mean  \\\n",
       "30                 8253.0                    12.00         3632.708955   \n",
       "11                 5962.0                    11.00         3929.164835   \n",
       "16                 6521.0                    12.00         3170.170455   \n",
       "5                  2935.0                    11.00         2800.500000   \n",
       "35                 2624.0                    10.00         1827.314815   \n",
       "27                 6837.0                    12.00         2900.634146   \n",
       "19                 7438.0                    12.00         4597.425000   \n",
       "17                 3053.0                    11.00         2863.105263   \n",
       "38                 4128.0                    11.00         2499.351351   \n",
       "33                 6984.0                    11.00         2530.241379   \n",
       "28                 8444.0                    12.00         3704.592593   \n",
       "7                 10379.5                    12.00         4656.384615   \n",
       "4                  5729.0                    10.00         2832.434783   \n",
       "34                 3864.0                    11.00         2469.476190   \n",
       "36                 4994.0                    10.00         2753.333333   \n",
       "8                  7119.5                    11.50         2643.050000   \n",
       "22                 3675.0                    11.00         1791.578947   \n",
       "23                 4340.0                    11.00         2453.000000   \n",
       "6                  5386.5                    12.00         4742.444444   \n",
       "20                 4248.0                    10.50         2398.666667   \n",
       "13                 2512.0                    10.00         1318.470588   \n",
       "21                 2756.0                    11.00         1508.294118   \n",
       "26                 3911.0                    10.00         1406.235294   \n",
       "3                 10556.0                    12.00         4513.647059   \n",
       "10                 2987.0                    10.50         2310.250000   \n",
       "18                 3344.5                    12.00         2436.062500   \n",
       "37                 5194.0                    11.00         1680.062500   \n",
       "12                 3086.0                    11.00         4673.066667   \n",
       "32                 4959.0                    11.26         1543.266667   \n",
       "40                15149.5                    13.00         5765.428571   \n",
       "25                 8820.0                    11.00         3245.846154   \n",
       "24                 2571.0                    10.00         1381.615385   \n",
       "1                  5903.0                    11.00         2193.461538   \n",
       "15                 5092.0                    12.00         2090.769231   \n",
       "9                  7452.0                    12.00         4987.153846   \n",
       "39                 5735.0                    11.00         1982.384615   \n",
       "29                 5015.0                     9.50         1731.000000   \n",
       "2                  4108.0                    11.50         2197.083333   \n",
       "0                  3021.5                    10.50         1387.000000   \n",
       "31                 9489.0                    11.00         2461.181818   \n",
       "14                 4992.0                    11.00         2578.818182   \n",
       "\n",
       "    favorite_count_mean  rating_numerator_mean  \n",
       "30         12369.738806              11.630597  \n",
       "11         12094.659341              11.131868  \n",
       "16         11270.022727              11.443182  \n",
       "5           8603.653846              10.692308  \n",
       "35          5909.240741              10.240741  \n",
       "27         10102.195122              11.609756  \n",
       "19         13533.625000              11.700000  \n",
       "17          8103.210526              11.151316  \n",
       "38          6746.540541              11.054054  \n",
       "33          8559.206897              10.896552  \n",
       "28         11655.370370              11.296296  \n",
       "7          17854.769231              11.269231  \n",
       "4          10550.826087              10.782609  \n",
       "34          8913.476190              10.666667  \n",
       "36          7936.333333               9.047619  \n",
       "8          10116.400000              11.000000  \n",
       "22          7218.578947              11.315789  \n",
       "23          9807.526316              10.684211  \n",
       "6          11954.944444              11.777778  \n",
       "20          8555.333333              10.388889  \n",
       "13          3135.882353               9.764706  \n",
       "21          3816.588235              10.529412  \n",
       "26          4708.294118              10.352941  \n",
       "3          15251.705882              11.529412  \n",
       "10          8698.000000               9.937500  \n",
       "18          7950.937500              11.187500  \n",
       "37          5973.687500              10.750000  \n",
       "12         13163.800000              10.466667  \n",
       "32          5593.733333              11.017333  \n",
       "40         17750.000000              12.214286  \n",
       "25         13830.076923              11.153846  \n",
       "24          5944.692308              10.384615  \n",
       "1           7528.230769              11.000000  \n",
       "15          7137.615385              11.153846  \n",
       "9          13623.384615              11.461538  \n",
       "39          7462.692308              10.846154  \n",
       "29          5164.583333               9.333333  \n",
       "2           8899.583333              10.583333  \n",
       "0           5259.000000               9.833333  \n",
       "31          9944.181818              11.454545  \n",
       "14          8241.727273              10.909091  "
      ]
     },
     "execution_count": 59,
     "metadata": {},
     "output_type": "execute_result"
    }
   ],
   "source": [
    "dog_type_counts = dog_type_counts.reset_index()\n",
    "dog_type_counts = dog_type_counts.sort_values(by='counts', ascending=False)\n",
    "dog_type_counts"
   ]
  },
  {
   "cell_type": "code",
   "execution_count": 60,
   "metadata": {},
   "outputs": [
    {
     "data": {
      "image/png": "[encoded data removed]",
      "text/plain": [
       "<Figure size 216x72 with 1 Axes>"
      ]
     },
     "metadata": {
      "needs_background": "light"
     },
     "output_type": "display_data"
    }
   ],
   "source": [
    "color_board = ['#01B8AA', '#F2C80F','#3CB371']\n",
    "sns.palplot(sns.color_palette(color_board))"
   ]
  },
  {
   "cell_type": "code",
   "execution_count": 61,
   "metadata": {},
   "outputs": [
    {
     "data": {
      "image/png": "[encoded data removed]",
      "text/plain": [
       "<Figure size 1440x504 with 2 Axes>"
      ]
     },
     "metadata": {
      "needs_background": "light"
     },
     "output_type": "display_data"
    }
   ],
   "source": [
    "# 定义画板\n",
    "fig, ax = plt.subplots(figsize=(20, 7))\n",
    "\n",
    "# 先画bar图\n",
    "bar_graph = sns.barplot(data = dog_type_counts, \n",
    "                       x = 'dog_type', y = 'counts',\n",
    "                       color=color_board[0],\n",
    "                       ax = ax)\n",
    "\n",
    "# ax2 = ax.twinx()\n",
    "\n",
    "# bar_graph = sns.pointplot(data = dog_type_counts, \n",
    "#                        x = 'dog_type', y = 'rating_numerator_mean',\n",
    "#                        color=color_board[2],\n",
    "#                        ax = ax2)\n",
    "\n",
    "plt.xticks(rotation = 90)\n",
    "\n",
    "# 线图\n",
    "ax3 = ax.twinx() # 定义自己的x轴\n",
    "line_graph = sns.pointplot(data=dog_type_counts,\n",
    "                          x = 'dog_type', y = 'favorite_count_mean',\n",
    "                          color=color_board[1],\n",
    "                          ax = ax3)\n",
    "\n",
    "# 设置y轴刻度\n",
    "ax.set_ylim(bottom = 5, top=150, auto=True)\n",
    "# ax2.set_ylim(bottom = 5, top = 15, auto=True)\n",
    "ax3.set_ylim(bottom = 0, top = 20000, auto=True)\n",
    "\n",
    "plt.suptitle('dog_type VS rating_numerate_mean VS favorite_count_mean', fontweight = 'bold')\n",
    "# 清除边框\n",
    "sns.despine(left = True, bottom=True)"
   ]
  },
  {
   "cell_type": "code",
   "execution_count": 59,
   "metadata": {},
   "outputs": [
    {
     "data": {
      "text/plain": [
       "<seaborn.axisgrid.PairGrid at 0x120267e50>"
      ]
     },
     "execution_count": 59,
     "metadata": {},
     "output_type": "execute_result"
    },
    {
     "data": {
      "image/png": "[encoded data removed]",
      "text/plain": [
       "<Figure size 720x720 with 4 Axes>"
      ]
     },
     "metadata": {
      "needs_background": "light"
     },
     "output_type": "display_data"
    }
   ],
   "source": [
    "g = sns.PairGrid(data = dog_type_counts.sort_values(by='counts', ascending=False), y_vars = 'dog_type',  x_vars = ['counts', 'rating_numerator_mean', 'retweet_count_mean', 'favorite_count_mean'] , height = 10, aspect = 0.25)\n",
    "g.map(sns.barplot, orient = 'h',\n",
    "     palette = \"ch:s=1, r=-.1, h=1_r\")"
   ]
  },
  {
   "cell_type": "markdown",
   "metadata": {},
   "source": [
    "## 结论\n",
    "\n",
    "1. 最常见的狗狗：golden_retriever、Labrador_retriever、Pembroke、Chihuahua 人们的评分、点赞、转发都偏高\n",
    "2. 人们最喜欢的狗狗：French_bulldog、Gardigan, 评分相对也高\n",
    "3. 评分最高的是teddy, 但人们不喜欢点赞、转发和teddy相关的推文"
   ]
  },
  {
   "cell_type": "code",
   "execution_count": null,
   "metadata": {},
   "outputs": [],
   "source": []
  }
 ],
 "metadata": {
  "kernelspec": {
   "display_name": "Python 3",
   "language": "python",
   "name": "python3"
  },
  "language_info": {
   "codemirror_mode": {
    "name": "ipython",
    "version": 3
   },
   "file_extension": ".py",
   "mimetype": "text/x-python",
   "name": "python",
   "nbconvert_exporter": "python",
   "pygments_lexer": "ipython3",
   "version": "3.7.4"
  }
 },
 "nbformat": 4,
 "nbformat_minor": 2
}
